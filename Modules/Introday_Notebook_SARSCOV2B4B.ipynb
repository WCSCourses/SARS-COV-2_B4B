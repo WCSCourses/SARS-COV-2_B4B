{
  "nbformat": 4,
  "nbformat_minor": 0,
  "metadata": {
    "colab": {
      "provenance": [],
      "collapsed_sections": []
    },
    "kernelspec": {
      "name": "python3",
      "display_name": "Python 3"
    },
    "language_info": {
      "name": "python"
    }
  },
  "cells": [
    {
      "cell_type": "markdown",
      "source": [
        "#Introduction Notebook\n",
        "\n",
        "Welcome to the course! There are some very important instructions for you to follow:\n",
        "\n",
        "1.) Click on File on the top left corner and select save a copy in drive\n",
        "\n",
        "**Your changes will not be saved if you do not do this step**\n",
        "\n",
        "2.) Click on the name of the workbook in the top left corner and replace \"Copy of\" with your full name\n",
        "\n",
        "**You will be submitting the downloaded notebook file as your proof of completion for this module**\n"
      ],
      "metadata": {
        "id": "VZpWDT_qK5mE"
      }
    },
    {
      "cell_type": "markdown",
      "source": [
        "Please type: \n",
        "```\n",
        "print(\"Yes, I have done step 1\") \n",
        "```\n",
        "into the code block below, then run by clicking the \"triangle\"/\"Play\" icon on that block \n",
        "\n"
      ],
      "metadata": {
        "id": "HkAHdwWUJKoZ"
      }
    },
    {
      "cell_type": "code",
      "source": [
        "#this block will be checked"
      ],
      "metadata": {
        "id": "lza1ngCWKHbX"
      },
      "execution_count": null,
      "outputs": []
    },
    {
      "cell_type": "markdown",
      "source": [
        "Please type: \n",
        "```\n",
        "print(\"Yes, I have completed step 2\") \n",
        "```\n",
        "into the code block below, then run by clicking the \"triangle\"/\"Play\" icon on that block \n",
        "\n"
      ],
      "metadata": {
        "id": "l166Rx0ZKLqh"
      }
    },
    {
      "cell_type": "code",
      "source": [
        "#this block will be checked"
      ],
      "metadata": {
        "id": "nsufot4fKS01"
      },
      "execution_count": null,
      "outputs": []
    },
    {
      "cell_type": "markdown",
      "source": [
        "# Installing Conda\n",
        "Conda is a versatile software management tool. Conda is an open source system of managing tools and libraries. More info on the library used to install conda on Google Colab is at this [website](https://inside-machinelearning.com/en/how-to-install-use-conda-on-google-colab/)\n",
        "\n",
        "Note - your runtime will refresh and reconnect after running this. It will say runtime crashed, this seems normal, wait for the session to reconnect after this.\n",
        "\n",
        "\n",
        "You can check out this repo for how this tool works:\n",
        "https://github.com/conda-incubator/condacolab \n"
      ],
      "metadata": {
        "id": "G7mk1VecOHLQ"
      }
    },
    {
      "cell_type": "code",
      "source": [
        "!pip install -q condacolab\n",
        "import condacolab\n",
        "condacolab.install()"
      ],
      "metadata": {
        "id": "jOTBUZ3gOFm3"
      },
      "execution_count": null,
      "outputs": []
    },
    {
      "cell_type": "markdown",
      "source": [
        "# Practice some commands in bash or python\n",
        "\n",
        "Remember that this course will primarily use bash - check those \"!\" lead characters"
      ],
      "metadata": {
        "id": "SneaO7ArlUMU"
      }
    },
    {
      "cell_type": "code",
      "source": [
        "# bash is great, dont forget the !\n",
        "!echo \"hello world\""
      ],
      "metadata": {
        "id": "i6Wk6e6klSnh"
      },
      "execution_count": null,
      "outputs": []
    },
    {
      "cell_type": "code",
      "source": [
        "#python is the default \n",
        "print(\"Hello World\")"
      ],
      "metadata": {
        "id": "EX47x3Iilmm2"
      },
      "execution_count": null,
      "outputs": []
    },
    {
      "cell_type": "markdown",
      "source": [
        "# Try use the file manager with the left hand side folder icon:\n",
        "Try making a folder or file by right clicking on the file space on the left\n",
        "Then try make one with a command!"
      ],
      "metadata": {
        "id": "Fry1n5nVl0XF"
      }
    },
    {
      "cell_type": "code",
      "source": [
        "#make a folder with a command\n",
        "!mkdir new_folder"
      ],
      "metadata": {
        "id": "OJHDGLHllzk8"
      },
      "execution_count": 4,
      "outputs": []
    },
    {
      "cell_type": "markdown",
      "source": [
        "# Do I have this storage space forever? \n",
        "Run the command below:"
      ],
      "metadata": {
        "id": "RTxjogMxmMy1"
      }
    },
    {
      "cell_type": "code",
      "source": [
        "!echo \"sadly no...\"; sleep 5; echo \"you have it only for 12 hours a day\""
      ],
      "metadata": {
        "id": "TBEXoPdxmLyO"
      },
      "execution_count": null,
      "outputs": []
    },
    {
      "cell_type": "markdown",
      "source": [
        "# So how to save important work or outputs? \n",
        "The notebook will save automatically if you have done the first two steps! You can then repeat all work by clicking the cells or running all. \n",
        "\n",
        "The data can be downloaded to your local computer!\n",
        "\n",
        "You can also link your Google Drive to this to move files there (your storage limits apply!)"
      ],
      "metadata": {
        "id": "-qtzGaOBnKU3"
      }
    },
    {
      "cell_type": "markdown",
      "source": [
        "# Always remember to:\n",
        "(run the cell below for a reminder)"
      ],
      "metadata": {
        "id": "Vyv7uvXhoRou"
      }
    },
    {
      "cell_type": "code",
      "source": [
        "# Always remember to :\n",
        "!echo \"DO the FIRST TWO STEPS - SAVE and RENAME\"; sleep 2; echo \"try new things\"; sleep 2; echo \"learn as you go\"; sleep 2; echo \"and have fun!\""
      ],
      "metadata": {
        "id": "5iQVAGcQn0dC"
      },
      "execution_count": null,
      "outputs": []
    }
  ]
}
