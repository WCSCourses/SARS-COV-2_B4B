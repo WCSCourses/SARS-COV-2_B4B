{
  "nbformat": 4,
  "nbformat_minor": 0,
  "metadata": {
    "colab": {
      "provenance": []
    },
    "kernelspec": {
      "name": "python3",
      "display_name": "Python 3"
    },
    "language_info": {
      "name": "python"
    }
  },
  "cells": [
    {
      "cell_type": "markdown",
      "source": [
        "# Module 4: Data Sharing and Next Steps.\n",
        "\n",
        "\n",
        "In this section we will examine how to align assembled genomes, perform phylogenetic analysis and interpret phylogenetic trees for outbreak investigations.\n",
        "\n",
        "\n",
        "As you have perfomed before:\n",
        "\n",
        "1.) Click on File on the top left corner and select save a copy in drive\n",
        "Your changes will not be saved if you do not do this step.\n",
        "\n",
        "2.) Click on the name of the workbook in the top left corner and replace \"Copy of\" with your full name.\n",
        "\n",
        "You will be submitting the downloaded notebook file as your proof of completion for this module."
      ],
      "metadata": {
        "id": "HTAcxxiLtcAx"
      }
    },
    {
      "cell_type": "markdown",
      "source": [
        "# **Part 1**: Phylogenetics and interpretation"
      ],
      "metadata": {
        "id": "MnWOPj8O9Dc9"
      }
    },
    {
      "cell_type": "markdown",
      "source": [
        "## Let's install analysis packages needed.\n",
        "\n",
        "For this portion we will use:  \n",
        "**seqtk** for assess genome quality (https://github.com/lh3/seqtk)  \n",
        "**Mafft** for genome alignment (https://mafft.cbrc.jp/alignment/software/)  \n",
        "**snp-site** for quick SNP difference assessment (https://github.com/sanger-pathogens/snp-sites)  \n",
        "**Fasttree** for phylogenetic tree building (http://www.microbesonline.org/fasttree/)  \n",
        "**Phylo** from biopython for quick tree visualisation (https://biopython.org/wiki/Phylo). *Note*: there are lots of tree visualisaiton programmes, most commonly used are ggtree(R), ete3 (python) and itol (https://itol.embl.de/).  \n",
        "\n",
        "microreact account (https://microreact.org/), which you can setup/sign in with your google account."
      ],
      "metadata": {
        "id": "9jVnQBVtt9t_"
      }
    },
    {
      "cell_type": "code",
      "source": [
        "!python --version"
      ],
      "metadata": {
        "id": "TScBu-_j7MQ-",
        "colab": {
          "base_uri": "https://localhost:8080/"
        },
        "outputId": "6e87eb5e-ee6b-4c86-d131-b7db2095d64f",
        "collapsed": true
      },
      "execution_count": null,
      "outputs": [
        {
          "output_type": "stream",
          "name": "stdout",
          "text": [
            "Python 3.7.15\n"
          ]
        }
      ]
    },
    {
      "cell_type": "code",
      "execution_count": null,
      "metadata": {
        "id": "uUCA4PN6Z9zf"
      },
      "outputs": [],
      "source": [
        "!pip install -q condacolab\n",
        "import condacolab\n",
        "condacolab.install()"
      ]
    },
    {
      "cell_type": "code",
      "source": [
        "!conda install -c conda-forge biopython"
      ],
      "metadata": {
        "id": "bdW6qL0n2j2B"
      },
      "execution_count": null,
      "outputs": []
    },
    {
      "cell_type": "code",
      "source": [
        "!conda install -c bioconda mafft snp-sites fasttree seqtk snp-dists\n"
      ],
      "metadata": {
        "id": "r_BfX1pMbV2G"
      },
      "execution_count": null,
      "outputs": []
    },
    {
      "cell_type": "markdown",
      "source": [
        "## Download dataset to be analysed.\n",
        "\n",
        "There are three datasets associated with this module. First two datasets are examples in the instruction slides. The last datasset is assemsment dataset. Analysing the example datasets alongside the instruction videos will give you the experience needed to analyse the assesment dataset."
      ],
      "metadata": {
        "id": "MIUdD5K5vwoZ"
      }
    },
    {
      "cell_type": "code",
      "source": [
        "!wget https://wcs_data_transfer.cog.sanger.ac.uk/Module4_data_zip.zip\n",
        "!unzip Module4_data_zip.zip"
      ],
      "metadata": {
        "id": "iD1qs04Uwqhw"
      },
      "execution_count": null,
      "outputs": []
    },
    {
      "cell_type": "markdown",
      "source": [
        "### Dataset 1"
      ],
      "metadata": {
        "id": "qo68sS-ew1aI"
      }
    },
    {
      "cell_type": "markdown",
      "source": [
        "First we will assess genome quality to see if the genomes are good enough for analysis. For SARs_CoV2, we are mainly interested in the number of Ns. The package we will use is seqtk comp, which gives a lots of statistics for a given sequence file in fasta format.   \n",
        "\n",
        "Output format: chr, length, #A, #C, #G, #T, #2, #3, #4, #CpG, #tv, #ts, #CpG-ts\n",
        "\n",
        "9th column, #4 is the number of Ns, 4 ambiguities, ie A, G, T, or C.\n",
        "\n",
        "If you have separated fasta files, it might be easier to combine the files together.  Otherwise, you have to go through the genome files separately."
      ],
      "metadata": {
        "id": "uE3delhayu1x"
      }
    },
    {
      "cell_type": "code",
      "source": [
        "#cat (concatenate) command combine the fastas into one file\n",
        "#seqtk comp analysis the sequence information\n",
        "#cut -f 1,9 selects the column 1 and 9, the information we need.\n",
        "!cat Module4_data/dataset_1_flight/20CV*.fasta > dataset_1_flight_combined.fasta\n",
        "!seqtk comp dataset_1_flight_combined.fasta | cut -f 1,9 > dataset_1_quality.tsv"
      ],
      "metadata": {
        "id": "LXmAbKCFw9e4"
      },
      "execution_count": null,
      "outputs": []
    },
    {
      "cell_type": "code",
      "source": [
        "!cat dataset_1_quality.tsv"
      ],
      "metadata": {
        "id": "JhddkUIM0ca7"
      },
      "execution_count": null,
      "outputs": []
    },
    {
      "cell_type": "markdown",
      "source": [
        "Quality looks good, 20CV0410 is not as good as the rest. It  has 1140 ambiguous bases but it is good enough for analysis. In general, we require 90%, or fewer than **3000** Ns the genome to be assembled for phylogenetic tree analysis. However, there are groups that has less stringent requirrments, some go as low as 50%. Having 70% of the genome assembled is the default in pangolin for lineage assignment."
      ],
      "metadata": {
        "id": "MMRXJ12A0ood"
      }
    },
    {
      "cell_type": "markdown",
      "source": [
        "### alignment\n",
        "\n",
        "We will use mafft for alignment. It is fairly fast and pretty accurate.\n",
        "\n",
        "There are many options for alignning sequences in mafft. --auto is a good option where the programme itself chooses the most efficient (good balance between speed and accuracy) algorithm. Alignment could take days to align long sequences if using the most accurate algorthm.If you are aligning short sequences, such as a region of the spike gene/protein, you can use more accurate options. The mafft website has good examples of what to use when.\n",
        "\n",
        "For mafft to align the sequences, in our case whole genomes, you need to combine the sequnence you want to align into one file. Good thing is you have done that already and since all genomes are good we don't need to exclude any from the alignment. "
      ],
      "metadata": {
        "id": "6RPfQ30P023Y"
      }
    },
    {
      "cell_type": "code",
      "source": [
        "!mafft --auto dataset_1_flight_combined.fasta > dataset_1_flight_aligned.fasta"
      ],
      "metadata": {
        "id": "lctKoEKLbrVG"
      },
      "execution_count": null,
      "outputs": []
    },
    {
      "cell_type": "markdown",
      "source": [
        "### quick look at the genome differences\n",
        "snp-site is a really good software to give you an idea how closely related your genomes of interest are. For small datasets such as this, this is really good. It analyses your alignment and give you a SNP alignmern as default. it can also give you snp information in VCF format."
      ],
      "metadata": {
        "id": "I7F90-At1nrL"
      }
    },
    {
      "cell_type": "code",
      "source": [
        "!snp-sites dataset_1_flight_aligned.fasta"
      ],
      "metadata": {
        "id": "dvGvS0hkb1gO"
      },
      "execution_count": null,
      "outputs": []
    },
    {
      "cell_type": "markdown",
      "source": [
        "from this quick look, you will see most of genomes are indistinguishable, apart from 20CV0401 which has an additional SNP. "
      ],
      "metadata": {
        "id": "HGKd8jBs2Erz"
      }
    },
    {
      "cell_type": "markdown",
      "source": [
        "### interpretation\n",
        "\n",
        "what can we say about a bunch of identical genomes?  \n",
        "\n",
        "Since we know these people came on the same flight, we can analyse one of the genomes using https://genome.ucsc.edu/cgi-bin/hgPhyloPlace or if you have an account you can use the GISAID audacity programme to find the closest international genome. Download a genome and try this with your web browser.\n",
        "\n",
        "see publication https://www.ncbi.nlm.nih.gov/pmc/articles/PMC7920679/ for the analysis of this dataset."
      ],
      "metadata": {
        "id": "HqzQ75ai2ZHE"
      }
    },
    {
      "cell_type": "code",
      "source": [
        "!cat Module4_data/dataset_1_flight/dataset_1_flight_metadata.tsv"
      ],
      "metadata": {
        "id": "6ri4nCXd23oe"
      },
      "execution_count": null,
      "outputs": []
    },
    {
      "cell_type": "markdown",
      "source": [
        "### Dataset 2"
      ],
      "metadata": {
        "id": "tKMOQGcB3DH_"
      }
    },
    {
      "cell_type": "code",
      "source": [
        "!seqtk comp Module4_data/dataset_2_hotel/dataset_2_quarantineHotel.fasta | cut -f 1,9 > dataset_2_quality.tsv\n",
        "!cat dataset_2_quality.tsv\n",
        "#are the genome assemblies of good quality?"
      ],
      "metadata": {
        "id": "cLBpOhlv3Kdv"
      },
      "execution_count": null,
      "outputs": []
    },
    {
      "cell_type": "code",
      "source": [
        "#fasta files are already concatenated.\n",
        "!mafft --auto Module4_data/dataset_2_hotel/dataset_2_quarantineHotel.fasta > dataset_2_quarantineHotel_aligned.fasta"
      ],
      "metadata": {
        "id": "a1XMsSPI39bZ"
      },
      "execution_count": null,
      "outputs": []
    },
    {
      "cell_type": "code",
      "source": [
        "!snp-sites dataset_2_quarantineHotel_aligned.fasta"
      ],
      "metadata": {
        "id": "Xb-AHIsmcSW_"
      },
      "execution_count": null,
      "outputs": []
    },
    {
      "cell_type": "code",
      "source": [
        "#can look at snp distance between pairs of samples using snp-dist\n",
        "!snp-dists dataset_2_quarantineHotel_aligned.fasta\n"
      ],
      "metadata": {
        "id": "epp4OEf-6XL6"
      },
      "execution_count": null,
      "outputs": []
    },
    {
      "cell_type": "markdown",
      "source": [
        "The alignment is a little bit more complicated with more differences, we need a phylogenetic tree to visualise the relationships"
      ],
      "metadata": {
        "id": "Xc_agJV-4dK2"
      }
    },
    {
      "cell_type": "code",
      "source": [
        "!fasttree -nt -gtr -gamma dataset_2_quarantineHotel_aligned.fasta > dataset_2_quarantineHotel_aligned.nwk"
      ],
      "metadata": {
        "id": "QCsmOP11dLQF"
      },
      "execution_count": null,
      "outputs": []
    },
    {
      "cell_type": "code",
      "source": [
        "!cat dataset_2_quarantineHotel_aligned.nwk\n",
        "#as you can see it is quite difficult to interpret this format without visualising in tree-form\n"
      ],
      "metadata": {
        "id": "mdiGRYRv4yTP"
      },
      "execution_count": null,
      "outputs": []
    },
    {
      "cell_type": "code",
      "source": [
        "from Bio import Phylo\n",
        "\n",
        "tree = Phylo.read(\"dataset_2_quarantineHotel_aligned.nwk\", \"newick\")\n",
        "print(\"tree\")\n",
        "Phylo.draw_ascii(tree)\n"
      ],
      "metadata": {
        "id": "Kd9qVlnE-4wX"
      },
      "execution_count": null,
      "outputs": []
    },
    {
      "cell_type": "markdown",
      "source": [
        "interpretation\n",
        "\n",
        "This dataset is about an incursion and onward spread into the community from quarantine hotel. What can we say about that tree? Follow the publication and instruction video. Metadata associated with the case in dataset_2_hotel/dataset_2_quarantineHotel_metadata.tsv. \n",
        "\n",
        "\n",
        "see publication https://www.ncbi.nlm.nih.gov/pmc/articles/PMC8084504/ for the analysis of this dataset.\n",
        "\n",
        "Compare the above tree to the publication, how come it looks different?"
      ],
      "metadata": {
        "id": "U_AzaC1J3Rw4"
      }
    },
    {
      "cell_type": "code",
      "source": [
        "!cat Module4_data/dataset_2_hotel/dataset_2_quarantineHotel_metadata.tsv"
      ],
      "metadata": {
        "id": "H5Io2x_jzsfi"
      },
      "execution_count": null,
      "outputs": []
    },
    {
      "cell_type": "code",
      "source": [
        "#let's add the 2020 reference genome to the dataset. \n",
        "!mafft --auto --add Module4_data/dataset_2_hotel/dataset_2_quarantineHotel.fasta Module4_data/dataset_2_hotel/references.fasta > dataset_2_quarantineHotel_aligned_ref.fasta"
      ],
      "metadata": {
        "id": "eCFGhUSE728C"
      },
      "execution_count": null,
      "outputs": []
    },
    {
      "cell_type": "code",
      "source": [
        "!fasttree -nt -gtr -gamma dataset_2_quarantineHotel_aligned_ref.fasta > dataset_2_quarantineHotel_aligned_ref.nwk"
      ],
      "metadata": {
        "id": "QN1R5DaM7-pZ"
      },
      "execution_count": null,
      "outputs": []
    },
    {
      "cell_type": "markdown",
      "source": [
        "Now if we root the phylogeny using the reference, the tree looks more like the publication. How come?  \n",
        "\n",
        "Have a look at the snp alignment as well using snp-site. You will see that using the reference allowed the identification of ancestral bases, so now we know what nucleotide changes are mutations from wildtype. Previously the tree algorithm made the assumption that the majority base is the ancestral sequence, which is not correct."
      ],
      "metadata": {
        "id": "QxxCeejy_k7c"
      }
    },
    {
      "cell_type": "code",
      "source": [
        "from Bio import Phylo\n",
        "\n",
        "treeOutgroup = Phylo.read(\"dataset_2_quarantineHotel_aligned_ref.nwk\", \"newick\")\n",
        "treeOutgroup.root_with_outgroup({\"name\": \"nCoV2019|Wuhan-Hu-1|MN908947|China|Wuhan|2019-12\"}) \n",
        "print(\"treeOutgroup\")\n",
        "Phylo.draw_ascii(treeOutgroup)"
      ],
      "metadata": {
        "id": "30evp4Lb8QiP"
      },
      "execution_count": null,
      "outputs": []
    },
    {
      "cell_type": "markdown",
      "source": [
        "## watch micoreact and nextstrain demo/video\n",
        "\n",
        "looking at trees this way is pretty difficult, there are some good tools out there that allows interactive trees and metadate visualisation.\n",
        "\n",
        "https://docs.microreact.org/   \n",
        "https://nextstrain.org/community/narratives/ESR-NZ/GenomicsNarrativeSARSCoV2/aotearoa-border-incursions\n",
        "\n",
        "Demo microreact project of dataset 2   \n",
        "https://microreact.org/project/5ELv2rXSKKeZ8XZCFXq9Ug-dataset2hotel\n"
      ],
      "metadata": {
        "id": "QNcABKhIBi9P"
      }
    },
    {
      "cell_type": "markdown",
      "source": [
        "### Other tools for larger datasets and tree building\n",
        "mafft even at the minimum accuracy model can be quite slow once you have 1000s of genomes to align. To speed things up, you can add new genomes to existing alignments or divide genomes into groups such as lineages or sublineages and then merge the alignments. The mafft website has good explaination of these tricks and their issues.    \n",
        "\n",
        "nextalign is another tool you can use. It is super fast! (https://docs.nextstrain.org/projects/nextclade/en/stable/user/nextalign-cli.html)  \n",
        "\n",
        "igtree2 is a comprehensive (not Baysian) phylogeny building package that can test for best substition models for your dataset, perform bootstrap analysis, compare phylogeny etc etc. It is probably one of the best tree building tools (that is reasnabley fast) out there currently. (http://www.iqtree.org/)\n",
        "\n",
        "usher is a software package that allows adding sequences to existing trees without doing all the alignment again. (https://www.nature.com/articles/s41588-021-00862-7) We used this when we analysed the flight dataset. There are some caveats and issues you need to be aware of. If the existing alignment is really clean and the sequences to be added are high-quality, using usher is a good fast way to get some quick preliminary results. However, it does not deal with Ns or gaps very well.  \n",
        "\n",
        "For timed baysian phyolgeny, BEAST2 is often used. (https://www.beast2.org/) Here is a nice review. https://www.nature.com/articles/s41559-017-0280-x  "
      ],
      "metadata": {
        "id": "ZApyhIf24USQ"
      }
    },
    {
      "cell_type": "markdown",
      "source": [
        "### Now we are ready for the assignment \n",
        "\n",
        "Cells below will be checked.\n",
        "\n",
        "For this assignment you will investigate a potential outbreak at a health care facility. The genomes included are from cases that are around the time of the outbreak and all has some links to the health care facility. Some cases have had clear contacts with other known cases (Epi-links to Outbreak:yes) and for some contacts have not been found (Epi-links to Outbreak:not found). And some cases are unknown (Epi-links to Outbreak: unknown).  Your job is to use the tree and report date to decide whether those cases labeld unknown should be investigated further, if they are genomically linked to the outbreak or can be excluded from the outbreak.\n",
        "\n",
        "You need to:  \n",
        "1) QC the genomes given and exclude any poor quality genomes from the analysis  \n",
        "2) Align the good quality genomes (**<3000 Ns**) and construct a phylogenetic tree  \n",
        "3) Use the tree you generated and metadata given to set up a microreact project for visualisation and examination of the tree  \n",
        "4) Using the metadata given to decide whether isolates under question are in the outbreak   \n",
        "5) Answer questions in the assesment  \n",
        "\n",
        "**hints**  \n",
        "\n",
        "you can use seqtk subseq to remove low quality sequences, or you can move (mv) the low quality sequences into another directory.\n",
        "\n",
        "Use snp distance to see if some of the cases are \"too\" different than the rest.  "
      ],
      "metadata": {
        "id": "1ybRPOh-AeAn"
      }
    },
    {
      "cell_type": "code",
      "source": [
        "#Quality control the genome assemblies to see if any of them are not suitable for further analysis.\n"
      ],
      "metadata": {
        "id": "ZP35D4l7H2jj"
      },
      "execution_count": null,
      "outputs": []
    },
    {
      "cell_type": "code",
      "source": [
        "#list the isolates that you think maynot be suitable for futhure analysis below\n",
        "#change XXX to isolate number\n",
        "!echo \"these isolates does not meet minimum quality standards: XXX and XXX\""
      ],
      "metadata": {
        "id": "p4xU5lCLUdqI"
      },
      "execution_count": null,
      "outputs": []
    },
    {
      "cell_type": "code",
      "source": [
        "#align the good quality genomes with mafft\n"
      ],
      "metadata": {
        "id": "ULBgbxds7jqD"
      },
      "execution_count": null,
      "outputs": []
    },
    {
      "cell_type": "code",
      "source": [
        "#build a phylogenetic tree with the mafft alignment\n"
      ],
      "metadata": {
        "id": "ehKld2sC84kl"
      },
      "execution_count": null,
      "outputs": []
    },
    {
      "cell_type": "code",
      "source": [
        "#visualise the tree with Phylo\n",
        "#remember to \"from Bio import Phylo\" if you haven't done it already\n"
      ],
      "metadata": {
        "id": "Ayvie8GI9LKE"
      },
      "execution_count": null,
      "outputs": []
    },
    {
      "cell_type": "markdown",
      "source": [
        "Now you have all the files needed to creat a microreact project.  \n",
        "Download your tree and the metadata file: outbreak_microreact.tsv"
      ],
      "metadata": {
        "id": "ehSN9dkDV9t6"
      }
    },
    {
      "cell_type": "markdown",
      "source": [
        "**Upload a screen grab of your microreact project in the cell below**  \n",
        "You can do this by double click on the cell  below  \n",
        "then click on the insert image icon, black with white mountain and then select the iamge file.  Depends on the picture it might be a bit slow.  \n",
        "The picture should be saved once you save your notebook.\n"
      ],
      "metadata": {
        "id": "cfh3mUaMVpYi"
      }
    },
    {
      "cell_type": "markdown",
      "source": [
        "**insert your microreact screen grab here**  \n",
        "double click here."
      ],
      "metadata": {
        "id": "wOqlFK9LX6zz"
      }
    },
    {
      "cell_type": "markdown",
      "source": [
        "**now you have the micreact project it will make it easier for you to answer the assessment questions**\n",
        "\n",
        "Optional use snp-dist and snp-site to help you with the analysis"
      ],
      "metadata": {
        "id": "ALu8awW8Ynwx"
      }
    },
    {
      "cell_type": "markdown",
      "source": [
        "**save your notebook now**"
      ],
      "metadata": {
        "id": "VUIrJBVYRMeV"
      }
    },
    {
      "cell_type": "markdown",
      "source": [
        "## **Part 2** Data sharing\n",
        "\n",
        "Please follow the talk and slides in **Sections 5, 6 and 7** for instructions.  "
      ],
      "metadata": {
        "id": "J0fZD0dfKDqV"
      }
    }
  ]
}