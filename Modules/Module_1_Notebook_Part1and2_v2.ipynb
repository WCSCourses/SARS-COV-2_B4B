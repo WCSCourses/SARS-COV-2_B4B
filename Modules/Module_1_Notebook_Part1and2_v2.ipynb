{
  "nbformat": 4,
  "nbformat_minor": 0,
  "metadata": {
    "colab": {
      "provenance": [],
      "collapsed_sections": []
    },
    "kernelspec": {
      "name": "python3",
      "display_name": "Python 3"
    },
    "language_info": {
      "name": "python"
    }
  },
  "cells": [
    {
      "cell_type": "markdown",
      "source": [
        "# Module 1: Intro to notebooks and unix\n",
        "\n",
        "Welcome to the course! There are some very important instructions for you to follow:\n",
        "\n",
        "1.) Click on File on the top left corner and select save a copy in drive\n",
        "\n",
        "**Your changes will not be saved if you do not do this step**\n",
        "\n",
        "2.) Click on the name of the workbook in the top left corner and replace \"Copy of\" with your full name\n",
        "\n",
        "**You will be submitting the downloaded notebook file as your proof of completion for this module**\n"
      ],
      "metadata": {
        "id": "VZpWDT_qK5mE"
      }
    },
    {
      "cell_type": "markdown",
      "source": [
        "Please type: \n",
        "```\n",
        "print(\"Yes, I have done step 1\") \n",
        "```\n",
        "into the code block below, then run by clicking the \"triangle\"/\"Play\" icon on that block \n",
        "\n"
      ],
      "metadata": {
        "id": "HkAHdwWUJKoZ"
      }
    },
    {
      "cell_type": "code",
      "source": [
        "#this block will be checked"
      ],
      "metadata": {
        "id": "lza1ngCWKHbX"
      },
      "execution_count": null,
      "outputs": []
    },
    {
      "cell_type": "markdown",
      "source": [
        "Please type: \n",
        "```\n",
        "print(\"Yes, I have completed step 2\") \n",
        "```\n",
        "into the code block below, then run by clicking the \"triangle\"/\"Play\" icon on that block \n",
        "\n"
      ],
      "metadata": {
        "id": "l166Rx0ZKLqh"
      }
    },
    {
      "cell_type": "code",
      "source": [
        "#this block will be checked"
      ],
      "metadata": {
        "id": "nsufot4fKS01"
      },
      "execution_count": null,
      "outputs": []
    },
    {
      "cell_type": "markdown",
      "source": [
        "# Installing Conda\n",
        "Conda is a versatile software management tool. Conda is an open source system of managing tools and libraries. More info on the library used to install conda on Google Colab is at this [website](https://inside-machinelearning.com/en/how-to-install-use-conda-on-google-colab/)\n",
        "\n",
        "Note - your runtime will refresh and reconnect after running this. It will say runtime crashed, this seems normal, wait for the session to reconnect after this.\n",
        "\n",
        "\n",
        "You can check out this repo for how this tool works:\n",
        "https://github.com/conda-incubator/condacolab \n"
      ],
      "metadata": {
        "id": "G7mk1VecOHLQ"
      }
    },
    {
      "cell_type": "code",
      "source": [
        "!pip install -q condacolab\n",
        "import condacolab\n",
        "condacolab.install()"
      ],
      "metadata": {
        "id": "jOTBUZ3gOFm3"
      },
      "execution_count": null,
      "outputs": []
    },
    {
      "cell_type": "markdown",
      "source": [
        "# Module 1 Part 1 - Introduction to Notebooks and Unix\n",
        "Part 1 of Module 1 begins here."
      ],
      "metadata": {
        "id": "MY1JBynBfoUT"
      }
    },
    {
      "cell_type": "markdown",
      "source": [
        "# Python vs Bash\n",
        "## Key differences in working on Google Colab\n",
        "\n",
        "\n",
        "The main differences are use a ! when wanting to execute bash commands. Do not put that when wanting Python to execute"
      ],
      "metadata": {
        "id": "p5SImQk-LGMe"
      }
    },
    {
      "cell_type": "code",
      "execution_count": null,
      "metadata": {
        "id": "dvo4cVYzKyzY"
      },
      "outputs": [],
      "source": [
        "#example of python\n",
        "print(\"This is a python command\")"
      ]
    },
    {
      "cell_type": "code",
      "source": [
        "#example of bash\n",
        "!echo \"This is a bash command\""
      ],
      "metadata": {
        "id": "1yjkW5M7LbMz"
      },
      "execution_count": null,
      "outputs": []
    },
    {
      "cell_type": "markdown",
      "source": [
        "If you forget to use the ! symbol, it will cause an error, as python wont likely be able to interpret your bash command - try run the cell below "
      ],
      "metadata": {
        "id": "3NH2ZaGwIuqP"
      }
    },
    {
      "cell_type": "code",
      "source": [
        "#example of forgotten ! when trying to execute bash\n",
        "echo \"This is a bash command\""
      ],
      "metadata": {
        "id": "HRf3XhgVF1xT",
        "colab": {
          "base_uri": "https://localhost:8080/",
          "height": 130
        },
        "outputId": "c18707cc-9965-4faf-ea01-f576787ac6d9"
      },
      "execution_count": null,
      "outputs": [
        {
          "output_type": "error",
          "ename": "SyntaxError",
          "evalue": "ignored",
          "traceback": [
            "\u001b[0;36m  File \u001b[0;32m\"<ipython-input-2-7b2f3893ce2e>\"\u001b[0;36m, line \u001b[0;32m2\u001b[0m\n\u001b[0;31m    echo \"This is a bash command\"\u001b[0m\n\u001b[0m                                ^\u001b[0m\n\u001b[0;31mSyntaxError\u001b[0m\u001b[0;31m:\u001b[0m invalid syntax\n"
          ]
        }
      ]
    },
    {
      "cell_type": "markdown",
      "source": [
        "That will create an error called a **\"syntax error\"** \n",
        "\n",
        "If you encounter this, do not worry, and check that the ! is in place. This course will primarily show examples and ask for commands in bash. Note - Python is a powerful language for data processing, and although we wont explore it in this course, you may find developing your skills in python and bash very useful for your bioinformatics projects. \n"
      ],
      "metadata": {
        "id": "O1gj_VJ8JRns"
      }
    },
    {
      "cell_type": "markdown",
      "source": [
        "# Working in BASH\n",
        "This course will primarily make use of BASH to run commands and tasks. There are some examples of Python later that are optional. The following sections will intro the basics of working with BASH and the file structures of a unix system\n",
        "\n",
        "The following examples were made by Srikeerthana Kuchi (Univ. Of Glasgow) - https://github.com/WCSCourses/ViralBioinfAsia2022/blob/main/Modules/Intro_to_linux_text_processing.pdf \n"
      ],
      "metadata": {
        "id": "lnarH4fDef7E"
      }
    },
    {
      "cell_type": "code",
      "source": [
        "#Blocks for bash from here"
      ],
      "metadata": {
        "id": "-VDjqQr8jQzF"
      },
      "execution_count": null,
      "outputs": []
    },
    {
      "cell_type": "code",
      "source": [
        "%cd /content/\n",
        "!wget https://wcs_data_transfer.cog.sanger.ac.uk/Introduction_to_Linux_Unix_Text_processing.zip ; unzip Introduction_to_Linux_Unix_Text_processing.zip"
      ],
      "metadata": {
        "id": "8FsDUDXAqGXr"
      },
      "execution_count": null,
      "outputs": []
    },
    {
      "cell_type": "markdown",
      "source": [
        "#Directory management\n",
        "\n",
        "Directories are the UNIX equivalent of folders on a PC or Mac. They are organised in a hierarchy, so directories can have sub-directories and so on. Directories are very useful for organising your work and keeping your account tidy - for example, if you have more than one project, you can organise the files for each project into different directories to keep them separate. You can think of directories as rooms in a house. You can only be in one room (directory) at a time. When you are in a room you can see everything in that room easily. To see things in other rooms, you have to go to the appropriate door and crane your head around. UNIX works in a similar manner, moving from directory to directory to access files. The location or directory that you are in is referred to as the current working directory."
      ],
      "metadata": {
        "id": "6Wqk_GqgF3_l"
      }
    },
    {
      "cell_type": "code",
      "source": [
        "!mkdir new_folder"
      ],
      "metadata": {
        "id": "4WYbAqPDLicJ"
      },
      "execution_count": null,
      "outputs": []
    },
    {
      "cell_type": "code",
      "source": [
        "!touch new_file"
      ],
      "metadata": {
        "id": "xPR2qI0_te4o"
      },
      "execution_count": null,
      "outputs": []
    },
    {
      "cell_type": "code",
      "source": [
        "!ls"
      ],
      "metadata": {
        "id": "qV5T6aAhtjC9"
      },
      "execution_count": null,
      "outputs": []
    },
    {
      "cell_type": "markdown",
      "source": [
        "All Linux commands are single words (can be alpha-numeric), with optional parameters followed by arguments. For historical reasons, some of the early commands are only two letter long and case sensitive. Most of the command options (also called flags) are single letters. They should be specified after the command before specifying any input.\n",
        "\n",
        "“ls” is the command to list the contents of the directory, “-l” is the option for long listing and “Exercises“ is the input, which is optional in this case. Without the input, “ls” shows the contents of the current directory (Type “ls -l”)."
      ],
      "metadata": {
        "id": "cKbx1QwpuWwR"
      }
    },
    {
      "cell_type": "code",
      "source": [
        "!ls -l"
      ],
      "metadata": {
        "id": "iekMN3ypuaHj",
        "collapsed": true
      },
      "execution_count": null,
      "outputs": []
    },
    {
      "cell_type": "code",
      "source": [
        "!cat new_file"
      ],
      "metadata": {
        "id": "RKYP4pFVtjKg"
      },
      "execution_count": null,
      "outputs": []
    },
    {
      "cell_type": "code",
      "source": [
        "#commands like less will behave strangly in the Colab system\n",
        "# you will need to find a white box at the bottom of the cell window and type  q into it, then hit enter to stop this cell running\n",
        "#this is because less is an interactive command, and to mimic the \"screen\" of a unix terminal, colab uses an interactive cell\n",
        "# this is also the case for other interactive commands like vi , nano, vim etc. \n",
        "#NB this cell will not stop if you dont, causing other cells to wait and be queued up if you do\n",
        "#You can stop a cell with the play/stop circle, or by using the Runtime command tab\n",
        "!less new_file"
      ],
      "metadata": {
        "id": "U9xIGYb2t0mq"
      },
      "execution_count": null,
      "outputs": []
    },
    {
      "cell_type": "markdown",
      "source": [
        "Typing out longer file names can be boring, and you are likely to make typos that will, at best, make your command fail with a strange error and at worst, overwrite some of your carefully crafted analysis. Tab completion is a trick that normally reduces this risk significantly. Instead of typing out “ls Interesting_stuff/”, try typing “ls Int” and press the Tab button (instead of Enter). The rest of the folder/file names that begin with “Int” should be listed. If you have two folders/files with similar names (e.g., my_awesome_scripts/ and my_awesome_results/) then you might need to give your terminal a bit of a hand to work out which one you want. In this case if you type “ls –l m”, when you press Tab the terminal would read “ls –l my_awesome_”. You could then type “s” followed by another press of Tab button and it would figure out that you meant “my_awesome_scripts/”."
      ],
      "metadata": {
        "id": "Tm_rGL5Dxu_w"
      }
    },
    {
      "cell_type": "code",
      "source": [
        "#practice using tab by entering code below"
      ],
      "metadata": {
        "id": "PiWjKuEVyCLb"
      },
      "execution_count": null,
      "outputs": []
    },
    {
      "cell_type": "markdown",
      "source": [
        "# Points to consider\n",
        "\n",
        "* Linux commands are case sensitive and are always single words\n",
        "* Options follow the command - and they start with a single hyphen (-) and a character or a\n",
        "double hyphen (- -) and a word\n",
        "* Single character options can be combined\n",
        "* Argument can be one or more inputs\n",
        "* You can write more than one command separating with a semicolon;\n",
        "You can use the “tab” keystroke to autofill the command.\n",
        "\n",
        "\n",
        "\n"
      ],
      "metadata": {
        "id": "hI8Ld-pDyQvx"
      }
    },
    {
      "cell_type": "code",
      "source": [
        "ls -l"
      ],
      "metadata": {
        "id": "N0R88pMezAMU"
      },
      "execution_count": null,
      "outputs": []
    },
    {
      "cell_type": "markdown",
      "source": [
        "From the above results\n",
        "\n",
        "Information (from left to right):\n",
        "* File permissions\n",
        "* Number of links\n",
        "* Owner name\n",
        "* Group name\n",
        "* Number of bytes\n",
        "* Abbreviated month, last modified date and time\n",
        "* File/Directory name"
      ],
      "metadata": {
        "id": "tw9LjP_jzFHZ"
      }
    },
    {
      "cell_type": "markdown",
      "source": [
        "# Other Useful Commands"
      ],
      "metadata": {
        "id": "aNyBTzGaz4cX"
      }
    },
    {
      "cell_type": "markdown",
      "source": [
        "# pwd (print working directory)\n",
        "Returns the path of the current working directory to the standard output.\n"
      ],
      "metadata": {
        "id": "4-IjRzZFzbBd"
      }
    },
    {
      "cell_type": "code",
      "source": [
        "!pwd"
      ],
      "metadata": {
        "id": "GOC_qoW7zfzq"
      },
      "execution_count": null,
      "outputs": []
    },
    {
      "cell_type": "markdown",
      "source": [
        "# cd change directory\n",
        "\n",
        "Change current working directory to the specified directory."
      ],
      "metadata": {
        "id": "r83lt8MCzmsK"
      }
    },
    {
      "cell_type": "code",
      "source": [
        "!ls"
      ],
      "metadata": {
        "id": "eiGcUydo0uSb"
      },
      "execution_count": null,
      "outputs": []
    },
    {
      "cell_type": "code",
      "source": [
        "%cd new_folder/\n",
        "!pwd"
      ],
      "metadata": {
        "id": "FbKeIZH2zrcZ"
      },
      "execution_count": null,
      "outputs": []
    },
    {
      "cell_type": "markdown",
      "source": [
        "# mkdir make directory\n",
        "This command creates a directory in the current working directory if no directory exists with the specified name."
      ],
      "metadata": {
        "id": "fEUB41xn2HVP"
      }
    },
    {
      "cell_type": "code",
      "source": [
        "!mkdir Test_folder\n",
        "!ls -l"
      ],
      "metadata": {
        "id": "qrIbxC9d2Hve"
      },
      "execution_count": null,
      "outputs": []
    },
    {
      "cell_type": "markdown",
      "source": [
        "# rmdir remove directory\n",
        "This command is used to remove directories. Try this below and see whether you can observe the folder disappearing."
      ],
      "metadata": {
        "id": "o6Cf7D3N2H66"
      }
    },
    {
      "cell_type": "code",
      "source": [
        "!rmdir Test_folder/\n",
        "!ls -l"
      ],
      "metadata": {
        "id": "_FUa8iOY2IKE"
      },
      "execution_count": null,
      "outputs": []
    },
    {
      "cell_type": "markdown",
      "source": [
        "# touch\n",
        "It is file’s timestamp changing command. However, it can be used to create an empty file. This command is generally used to check if there is write permission for the current user."
      ],
      "metadata": {
        "id": "bfUf8akK29xT"
      }
    },
    {
      "cell_type": "code",
      "source": [
        "!touch temp-file\n",
        "!ls -l"
      ],
      "metadata": {
        "id": "dScFOBl729-B"
      },
      "execution_count": null,
      "outputs": []
    },
    {
      "cell_type": "markdown",
      "source": [
        "# rm remove\n",
        "rm is used for removing files and directories. Try this below to remove thefile we just created."
      ],
      "metadata": {
        "id": "XX5wr3zu2-I_"
      }
    },
    {
      "cell_type": "code",
      "source": [
        "!rm temp-file\n",
        "!ls -l"
      ],
      "metadata": {
        "id": "3e_jtT3c2-XD"
      },
      "execution_count": null,
      "outputs": []
    },
    {
      "cell_type": "markdown",
      "source": [
        "# PLEASE BE CAREFUL\n",
        "\n",
        "Please remember once a file or directory is deleted, it will not go to “Recycle bin” in Linux and there is no way you can recover it."
      ],
      "metadata": {
        "id": "oPqtI7IO3cSm"
      }
    },
    {
      "cell_type": "markdown",
      "source": [
        "\n",
        "# cp Copy\n",
        "Copies the content of the source file/directory to the target file/directory. To copy directories, use “-r” option."
      ],
      "metadata": {
        "id": "mFYYI4323sJm"
      }
    },
    {
      "cell_type": "code",
      "source": [
        " !touch temp1\n",
        " !cp temp1 temp2\n",
        " !ls -l"
      ],
      "metadata": {
        "id": "BgpSHuPJ3sU1"
      },
      "execution_count": null,
      "outputs": []
    },
    {
      "cell_type": "markdown",
      "source": [
        "# mv Move\n",
        "\n",
        "To move/rename a file or a directory."
      ],
      "metadata": {
        "id": "PC3h6cUL4C_8"
      }
    },
    {
      "cell_type": "code",
      "source": [
        " !mkdir temp\n",
        " !mv temp1 temp/.\n",
        " !mv temp2 temp3\n",
        "!ls -l"
      ],
      "metadata": {
        "id": "Cm8mAcsd4Cku"
      },
      "execution_count": null,
      "outputs": []
    },
    {
      "cell_type": "markdown",
      "source": [
        "The second command moves the “temp1” file into the directory “temp”. The “.” (dot) at the end of the command retains the name of the file, whereas the third command renames the file “temp2” to “temp3”."
      ],
      "metadata": {
        "id": "hsUoxgtu4XMk"
      }
    },
    {
      "cell_type": "markdown",
      "source": [
        "# File Viewers"
      ],
      "metadata": {
        "id": "yK27MJL14xuG"
      }
    },
    {
      "cell_type": "markdown",
      "source": [
        "# cat Concatenate\n",
        "The concatenate command combines files (sequentially) and prints on the screen (standard output)."
      ],
      "metadata": {
        "id": "LLYLZmZp4x9X"
      }
    },
    {
      "cell_type": "code",
      "source": [
        "!pwd\n"
      ],
      "metadata": {
        "id": "MCnSUCb0r4so"
      },
      "execution_count": null,
      "outputs": []
    },
    {
      "cell_type": "code",
      "source": [
        "!cat /content/Introduction_to_Linux_Unix_Text_processing/SARS-CoV-2.fa"
      ],
      "metadata": {
        "id": "pA--U9Yq4-Xy"
      },
      "execution_count": null,
      "outputs": []
    },
    {
      "cell_type": "markdown",
      "source": [
        "# more/less\n",
        "These commands are used for viewing the content of the files; faster with large input files than text editors; not the entire file is read at the beginning. Press “Enter” to view lines further and “q” to quit the program\n"
      ],
      "metadata": {
        "id": "VrR_apXW5Fqa"
      }
    },
    {
      "cell_type": "code",
      "source": [
        "!more /content/Introduction_to_Linux_Unix_Text_processing/SARS-CoV-2.fa"
      ],
      "metadata": {
        "id": "9ziSK7QM5F5I"
      },
      "execution_count": null,
      "outputs": []
    },
    {
      "cell_type": "markdown",
      "source": [
        "# head/tail\n",
        "These commands show first/last 10 lines (default) respectively from a file."
      ],
      "metadata": {
        "id": "krrjHAKj5RSn"
      }
    },
    {
      "cell_type": "code",
      "source": [
        "!head /content/Introduction_to_Linux_Unix_Text_processing/SARS-CoV-2.gb"
      ],
      "metadata": {
        "id": "IidONJu75Rh-"
      },
      "execution_count": null,
      "outputs": []
    },
    {
      "cell_type": "markdown",
      "source": [
        "# File editors\n",
        "There are many non-graphical text editors like ed, emacs, vi and nano available on most Linux distributions. Some of them are very sophisticated (e.g., vi) and for advanced users.\n",
        "Nano (earlier called pico) is like any graphical editor without a mouse. All commands are executed using the keyboard, using the <CTRL> key modifier. It can be used to edit virtually any kind of text file from the command line. Nano without a filename gives you a standard (blank) nano window.\n",
        "At the bottom of the screen, there are commands with a symbol in front. The symbol tells that you need to hold down the Control (Ctrl) key, and then press the corresponding letter of the command you wish to use.\n",
        "Ctrl+X will exit nano and return you to the command line.\n",
        "\n",
        "Nano Quick Reference\n",
        "* Ctrl+X: Exit the editor. If you’ve edited text without saving, you’ll be prompted as to whether you really want to exit.\n",
        "* Ctrl+O: Write (output) the current contents of the text buffer to a file. A filename prompt will appear; press Ctrl+T to open the file navigator shown above.\n",
        "* Ctrl+R: Read a text file into the current editing session. At the filename prompt, hit Ctrl+T: for the file navigator.\n",
        "* Ctrl+K: Cut a line into the clipboard. You can press this repeatedly to copy multiple lines, which are then stored as one chunk.\n",
        "* Ctrl+J: Justify (fill out) a paragraph of text. By default, this reflows text to match the width of the editing window.\n",
        "* Ctrl+U: Uncut text, or rather, paste it from the clipboard. Note that after a Justify operation, this turns into unjustify.\n",
        "* Ctrl+T: Check spelling.\n",
        "* Ctrl+W: Find a word or phrase. At the prompt, use the cursor keys to go through previous search terms, or hit Ctrl+R to move into replace mode. Alternatively, you can hit Ctrl+T to go to a specific line.\n",
        "* Ctrl+C: Show current line number and file information.\n",
        "* Ctrl+G: Get help; this provides information on navigating through files and common keyboard commands\n",
        "\n"
      ],
      "metadata": {
        "id": "k-GU1-_U5l-w"
      }
    },
    {
      "cell_type": "markdown",
      "source": [
        "# Getting help in Linux\n",
        "All Linux commands has manual pages. To access them, use “man” or “info” command. The manual page gives a detailed explanation of the command, all available options and sometimes, also provides examples. For example, to view the manual page for “ls” command\n",
        "\n",
        "Type: man ls\n",
        "\n",
        "LS(1) User Commands\n",
        "\n",
        "NAME\n",
        "\n",
        "ls - list directory contents\n",
        "\n",
        "SYNOPSIS\n",
        "\n",
        "ls [OPTION]... [FILE]...\n",
        "\n",
        "DESCRIPTION\n",
        "\n",
        "LS(1)\n",
        "\n",
        "List information about the FILEs (the current directory by default). Sort entries alphabetically if none of -cftuvSUX nor --sort is specified.\n",
        "\n",
        "Mandatory arguments to long options are mandatory for short options too.\n",
        "\n",
        "-a, --all\n",
        "\n",
        "do not ignore entries starting with .\n",
        "\n",
        "-A, --almost-all\n",
        "\n",
        "do not list implied . and ..\n",
        "\n",
        "--author\n",
        "\n",
        "with -l, print the author of each file\n",
        "\n",
        "Please explore manual pages of all the above commands for available options."
      ],
      "metadata": {
        "id": "1j39YRNB5pOq"
      }
    },
    {
      "cell_type": "code",
      "source": [
        "!man ls"
      ],
      "metadata": {
        "id": "F3VjYEZ5kART"
      },
      "execution_count": null,
      "outputs": []
    },
    {
      "cell_type": "markdown",
      "source": [
        "# Commands for text processing"
      ],
      "metadata": {
        "id": "jvTowcHykchq"
      }
    },
    {
      "cell_type": "markdown",
      "source": [
        "**cut**\n",
        "\n",
        "The cut command is a command line utility to cut a section from a file. Please see \"man cut\" for available options.\n",
        "To cut a section of file use \"-c\" (characters)"
      ],
      "metadata": {
        "id": "q97V2_Wtkc0L"
      }
    },
    {
      "cell_type": "code",
      "source": [
        "!cut -c1-10 /content/Introduction_to_Linux_Unix_Text_processing/SARS-CoV-2.fa"
      ],
      "metadata": {
        "id": "ekXRHGlIkdDP"
      },
      "execution_count": null,
      "outputs": []
    },
    {
      "cell_type": "markdown",
      "source": [
        "The option “-c1-10” will output first 10 characters from the input file.\n",
        "Few options:\n",
        "-c: cut based on character position -d: cut based on delimiter\n",
        "-f: field number\n",
        "\n",
        "\n",
        "We have a file named “human_viruses.txt” with all the virus names, genbank ids and genome length. These fields are separated by “|” symbol."
      ],
      "metadata": {
        "id": "wxIjjGfqku5_"
      }
    },
    {
      "cell_type": "code",
      "source": [
        "!head /content/Introduction_to_Linux_Unix_Text_processing/human_viruses.txt"
      ],
      "metadata": {
        "id": "pVQl00KflBcs"
      },
      "execution_count": null,
      "outputs": []
    },
    {
      "cell_type": "markdown",
      "source": [
        "To get only the genbank id, type the command below."
      ],
      "metadata": {
        "id": "37A3OvYxlFJp"
      }
    },
    {
      "cell_type": "code",
      "source": [
        "!cut -d \"|\" -f2 /content/Introduction_to_Linux_Unix_Text_processing/human_viruses.txt"
      ],
      "metadata": {
        "id": "Z7BTKK2ClK7w"
      },
      "execution_count": null,
      "outputs": []
    },
    {
      "cell_type": "markdown",
      "source": [
        "**sort**\n",
        "\n",
        "The sort command is used to sort the input content.\n",
        "\n",
        "\n",
        "Few options:\n",
        "\n",
        "-t: field separator\n",
        "\n",
        "-n: numeric sort\n",
        "\n",
        "-k: sort with a key (field) \n",
        "\n",
        "-r: reverse sort\n",
        "\n",
        "-u: print unique entries"
      ],
      "metadata": {
        "id": "aBxlKKjQlPFX"
      }
    },
    {
      "cell_type": "code",
      "source": [
        "!sort -t \"|\" -nrk6 /content/Introduction_to_Linux_Unix_Text_processing/human_viruses.txt"
      ],
      "metadata": {
        "id": "yyF9F03hlY4r"
      },
      "execution_count": null,
      "outputs": []
    },
    {
      "cell_type": "markdown",
      "source": [
        "**grep**\n",
        "\n",
        "grep searches the input for a given pattern.\n",
        "\n",
        "Few options:\n",
        "\n",
        "-A: after context\n",
        "\n",
        "-B: before context\n",
        "\n",
        "-C: before and after context -c: count\n",
        "\n",
        "-l: file with match\n",
        "\n",
        "-i: ignore case\n",
        "\n",
        "-o: only match\n",
        "\n",
        "-v: invert match\n",
        "\n",
        "-w: word match\n",
        "\n",
        "\n",
        "To get the list of all Hepatitis viruses from human_viruses.txt, type the command below."
      ],
      "metadata": {
        "id": "XE0b15qUle0Z"
      }
    },
    {
      "cell_type": "code",
      "source": [
        "!grep \"Hepatitis\" /content/Introduction_to_Linux_Unix_Text_processing/human_viruses.txt\n"
      ],
      "metadata": {
        "id": "EgNQS11elod1"
      },
      "execution_count": null,
      "outputs": []
    },
    {
      "cell_type": "markdown",
      "source": [
        "**wc**\n",
        "\n",
        "The command “wc” can be used in 2 ways, which counts lines, words or characters."
      ],
      "metadata": {
        "id": "MQN60dA9lrfV"
      }
    },
    {
      "cell_type": "code",
      "source": [
        "!wc -l /content/Introduction_to_Linux_Unix_Text_processing/outbreak.csv"
      ],
      "metadata": {
        "id": "ZgPEG2E_lzoL"
      },
      "execution_count": null,
      "outputs": []
    },
    {
      "cell_type": "code",
      "source": [
        "!cat /content/Introduction_to_Linux_Unix_Text_processing/outbreak.csv | wc -l"
      ],
      "metadata": {
        "id": "vDNPRtlYl2-u"
      },
      "execution_count": null,
      "outputs": []
    },
    {
      "cell_type": "markdown",
      "source": [
        "**uniq**\n",
        "\n",
        "\n",
        "The uniq command extracts unique lines from the input. It is usually used in combination with sort to count unique values in the input.\n",
        "To get the list of countries that has had an outbreak in 2022:"
      ],
      "metadata": {
        "id": "W79G_y1Sl5hg"
      }
    },
    {
      "cell_type": "code",
      "source": [
        "!cut -d, -f3 /content/Introduction_to_Linux_Unix_Text_processing/outbreak.csv | sort | uniq"
      ],
      "metadata": {
        "id": "M1LxQw2rmUbH"
      },
      "execution_count": null,
      "outputs": []
    },
    {
      "cell_type": "markdown",
      "source": [
        "Other text processing commands worth looking at are: tr, rev, sed and paste."
      ],
      "metadata": {
        "id": "9HO9XAdsmo2a"
      }
    },
    {
      "cell_type": "markdown",
      "source": [
        "# Output control in Linux"
      ],
      "metadata": {
        "id": "AlF_ySwGmtWL"
      }
    },
    {
      "cell_type": "markdown",
      "source": [
        "When you run a command, the output is usually sent to standard output (stdout) ie. the terminal. However, we can redirect the standard output to a file using “>”."
      ],
      "metadata": {
        "id": "hlsBAV5JmtKc"
      }
    },
    {
      "cell_type": "code",
      "source": [
        "!ls > list\n",
        "!cat list"
      ],
      "metadata": {
        "id": "BfEZOi1xnHMW"
      },
      "execution_count": null,
      "outputs": []
    },
    {
      "cell_type": "markdown",
      "source": [
        "The first command creates a new file called list with all the file names in the directory. If there exists a file already named “list”, it is overwritten with the output of the command. Instead, we can append to a file using “>>” redirection.\n",
        "\n",
        "Another kind of output that is generated by programs is standard error. We must use “2>” to redirect it."
      ],
      "metadata": {
        "id": "3h2RgYxUnLxS"
      }
    },
    {
      "cell_type": "code",
      "source": [
        "!ls /foo 2> error"
      ],
      "metadata": {
        "id": "Vf6qbH1CnQe5"
      },
      "execution_count": null,
      "outputs": []
    },
    {
      "cell_type": "markdown",
      "source": [
        "To redirect stdout and stderr to a file use “&>”"
      ],
      "metadata": {
        "id": "JpYLn8sVnUH9"
      }
    },
    {
      "cell_type": "markdown",
      "source": [
        "# Pipes"
      ],
      "metadata": {
        "id": "aM3-zZmQnXpK"
      }
    },
    {
      "cell_type": "markdown",
      "source": [
        "Piping in Linux is a very powerful and efficient way to combine commands. Pipes (|) in Linux act as connecting links between commands. Pipe redirects output of the first command as an input to the next command. We can nest as many commands as we want using pipes. They ensure smooth running of the command flow and reduces the execution time.\n",
        "\n",
        " To print 10 smallest viruses, run the command below."
      ],
      "metadata": {
        "id": "BoIkOMprnXyR"
      }
    },
    {
      "cell_type": "code",
      "source": [
        "!sort -t \"|\" -nk6 /content/Introduction_to_Linux_Unix_Text_processing/human_viruses.txt | head -10"
      ],
      "metadata": {
        "id": "hUk3EKpXnn__"
      },
      "execution_count": null,
      "outputs": []
    },
    {
      "cell_type": "markdown",
      "source": [
        "# Process control"
      ],
      "metadata": {
        "id": "Db6t0y-unrtf"
      }
    },
    {
      "cell_type": "markdown",
      "source": [
        "Some commands take time to finish the assigned job. For example, if you would like to compress a huge file with gzip command that takes a few minutes to finish running, you can run it in the background by appending the command with “&” (Another way is to suspend a command by pressing Ctrl+Z and typing “bg”). The completion of the task is indicated by “Done”."
      ],
      "metadata": {
        "id": "iZ67Ig7rnziY"
      }
    },
    {
      "cell_type": "code",
      "source": [
        "!gzip list &"
      ],
      "metadata": {
        "id": "I_90Qp2oo9zt"
      },
      "execution_count": null,
      "outputs": []
    },
    {
      "cell_type": "markdown",
      "source": [
        "We can get list of currently running jobs in the terminal by “jobs” command. This will give you all the background jobs running in the current terminal. If you want to see all the running processes in the system, use “top”. You can get user specific details in top using “-u” option.\n"
      ],
      "metadata": {
        "id": "Lq1ow6eopCjk"
      }
    },
    {
      "cell_type": "code",
      "source": [
        "!top"
      ],
      "metadata": {
        "id": "zb91KCGVpF0a"
      },
      "execution_count": null,
      "outputs": []
    },
    {
      "cell_type": "markdown",
      "source": [
        "\n",
        "Few of the important columns in top output:\n",
        "\n",
        "\n",
        "PID: Process Id, this is a unique number used to identify the process. \n",
        "\n",
        "COMMAND: Command Name\n",
        "\n",
        "\n",
        "S: Process Status: The status of the task which can be one of:\n",
        "\n",
        "\n",
        "– D = uninterruptible sleep\n",
        "\n",
        "– R = running \n",
        "\n",
        "– S = sleeping\n",
        "\n",
        "– T = traced or stopped \n",
        "\n",
        "– Z = zombie\n",
        "\n",
        "If you want to stop a running background job use “kill” command followed by the process id. \n",
        "\n",
        "kill 1234\n",
        "\n",
        "\n",
        "This command kills the job with the process id 1234. As a user you can kill only your jobs. You do not have permission to run this command on the process ids of other users.\n",
        "\n",
        "\n",
        "Command line shortcuts\n",
        "* Up/Down arrows: Previous commands\n",
        "* !!: Reruns previous command\n",
        "* Tab: Auto complete\n",
        "* Tab+Tab: All available options\n",
        "* Ctrl+a: Move cursor to start of line\n",
        "* Ctrl+e: Move cursor to end of line\n",
        "* Alt+: Alternates between terminals\n",
        "* Ctrl+l: Clear screen (or Command+k on Mac)\n",
        "* Ctrl+c: Terminates the running program\n",
        "* Ctrl+z: Suspends the running program\n",
        "* Ctrl+w: Removes a previous word\n",
        "* Ctrl+d: Logout\n",
        "* Ctrl+d(in a command): Removes a character\n",
        "* Ctrl+u: Removes till the beginning"
      ],
      "metadata": {
        "id": "SaowKoH3pZij"
      }
    },
    {
      "cell_type": "markdown",
      "source": [
        "\n",
        "# Exercises:\n",
        "1. Navigate into Exercises directory (/content/Introduction_to_Linux_Unix_Text_processing/Exercises)\n",
        "2. Extract first 15 lines from the file “HM067743.1_cds_ADQ37313.1_1.fa” and save the output into “output.fa”\n",
        "3. How many fasta files are there in the directory?\n",
        "4. Extract all header lines from the file all.fa\n",
        "5. How many sequences are there in the file all.fa?\n",
        "6. Get the list of countries (excluding multi country outbreaks) that had an outbreak in 2022 (Input: /content/Introduction_to_Linux_Unix_Text_processing/outbreak.csv) \n",
        "7. Find the number of outbreaks (exclude multi country outbreaks using invert match grep (-v)) in each month of 2022."
      ],
      "metadata": {
        "id": "1IEOrNcBvV-J"
      }
    },
    {
      "cell_type": "code",
      "source": [
        "#Use this space to practice your code and answer the questions in the exercises above. \n",
        "#Feel free to add more Code blocks if required using the +Code button at top of page."
      ],
      "metadata": {
        "id": "qLknepLivnJD"
      },
      "execution_count": null,
      "outputs": []
    },
    {
      "cell_type": "markdown",
      "source": [
        "#Practice commands within the folder and the files\n",
        "\n",
        "Now, with the mounted folder, you can practice some of the commands previosly shown."
      ],
      "metadata": {
        "id": "eem-CyT9GtuK"
      }
    },
    {
      "cell_type": "code",
      "source": [
        "# enter your code below"
      ],
      "metadata": {
        "id": "qYZLG8yFJedg"
      },
      "execution_count": null,
      "outputs": []
    },
    {
      "cell_type": "markdown",
      "source": [
        "# Practical questions\n",
        "Please answer the following questions in the code blocks below\n",
        "\n",
        "1.   Create a directory called my_new_directory\n",
        "2.   Create a file called my_new_file.txt in my_new_directory\n",
        "3.   What is the absolute path to the newly made my_new_file.txt \n",
        "\n"
      ],
      "metadata": {
        "id": "971FGhBBLjJv"
      }
    },
    {
      "cell_type": "code",
      "source": [
        "# 1.   Create a directory called my_new_directory \n",
        "# enter your code below\n",
        "!mkdir my_new_directory"
      ],
      "metadata": {
        "id": "n3o_SjC2L4KG"
      },
      "execution_count": null,
      "outputs": []
    },
    {
      "cell_type": "code",
      "source": [
        "# 2.   Create a file called my_new_file.txt in my_new_directory\n",
        "# enter your code below\n",
        "\n"
      ],
      "metadata": {
        "id": "DcWtwQR8L8jh"
      },
      "execution_count": null,
      "outputs": []
    },
    {
      "cell_type": "code",
      "source": [
        "# 3.   What is the absolute path to the newly made my_new_file.txt \n",
        "# enter your code below\n"
      ],
      "metadata": {
        "id": "yLfNEOo2MjAk"
      },
      "execution_count": null,
      "outputs": []
    },
    {
      "cell_type": "markdown",
      "source": [
        "# Module 1 Part 2 - NGS file formats and data & QC\n",
        "This practical was adapted from a previous course - [Viral Genomics and Bioformatics Asia, 2022](https://wcscourses.github.io/ViralBioinfAsia2022/). The NGS File formats and data QC components module was created by [David Studholme (Univ. of Exeter)](https://biosciences.exeter.ac.uk/staff/profile/index.php?web_id=david_studholme).\n",
        "\n",
        "\n",
        "This is a general module to help you get familiarised with data formats in a practical way. Data QC and making a consensus sequence will be explored in more detail in later modules.\n",
        " "
      ],
      "metadata": {
        "id": "US37fC5veAwp"
      }
    },
    {
      "cell_type": "markdown",
      "source": [
        "# Commonly used file formats for next-generation sequencing (NGS) data\n",
        "\n",
        "In this session, we are going to get familiar with several common file formats used for sequence data. Then we are going to perform some quality control (QC) on some FASTQ-formatted sequence data.\n",
        "\n"
      ],
      "metadata": {
        "id": "M-U6Z5Z_Fcf5"
      }
    },
    {
      "cell_type": "markdown",
      "source": [],
      "metadata": {
        "id": "LWudfluBWvGD"
      }
    },
    {
      "cell_type": "markdown",
      "source": [
        "## FASTA\n",
        "\n",
        "Among the most common and simplest file formats for representing nucleotide sequences is FASTA.  Essentially, each sequence is represented by a 'header' line that begins with a '>', followed by lines containing the actual nucleotide sequence. By convention, the first 'word' in the header line is a unique identifier, which is usually as accession number. Consider this example of a FASTA-formatted nucleotide sequence:\n",
        "\n",
        "    >LC719646.1 Influenza A virus (A/swine/Tottori/B34/2020(H1N1)) segment 8 NS1, NEP genes for nonstructural protein 1, nuclear export protein, complete cds\n",
        "    ATGGAATCCAACACCATGTCAAGCTTTCAGGTAGACTGTTTTCTTTGGCATATTCGCAAGCGATTTGCAG\n",
        "    ACAATGGATTGGGTGATGCCCCATTCCTTGATCGGCTACGCCGAGATCAAAAGTCCTTAAAAGGAAGAGG\n",
        "    CAACACCCTTGGCCTCGACATCAAAACAGCCACTCTTGTTGGGAAACAAATTGTGGAATGGATTTTGAAA\n",
        "    GAGGAATCCAGCGAGACACTTAGAATGGCAATTGCATCTGTACCTACTTCGCGTTACATTTCTGACATGG\n",
        "    CCCTCGAGGAAATGTCACGAGACTGGTTCATGCTTATGCCTAGGCAAAAGATAATAGGCCCTCTTTGCGT\n",
        "    GCGATTGGACCAGGCGGTCATGGATAAGAACGTAGTACTGGAAGCAAACTTCAGTGTAATCTTCAACCGA\n",
        "    TTAGAGACCTTGATACTACTAAGGGCTTTCACTGAGGAGGGAACAATAGTTGGAGAAATTTCACCATTAC\n",
        "    CTTCTCTTCCAGGACATACTTATGAGGATGTCAAAAATGCAGTTGGGGTYCTCATCGGAGGACTTGAGTG\n",
        "    GAATGGTAACACGGTTCGAGTCTCTGAAAATATACAGAGATTCGCTTGGAGAAGCTGTGATGAGAATGGG\n",
        "    AGACCTTCACTACCTCCAGAGCAGAAATGAGAAGTGGCGGGAACAATTGGGACAGAAATTTGAGGAAATA\n",
        "    AGGTGGTTAATTGAAGAAATACGACACAGATTGAAAGCGACAGAGAATAGTTTCGAACAAATAACATTTA\n",
        "    TGCAAGCCTTACAACTACTGCTTGAAGTAGAGCAAGAGATAAGAGCTTTCTCGTTTCAGCTTATTTAA\n",
        "\n",
        "- The first line begins with '>' indicating that it is the header line.\n",
        "- This is immediately followed by 'LC719646.1', which is an accession number for [this sequence in the GenBank database](https://www.ncbi.nlm.nih.gov/nuccore/LC719646.1).\n",
        "- Then follows the actual nucleotide sequence, split over several lines, beginning with 'ATGGAATCCAACA...' and ending with '...TTATTTAA'.\n",
        "\n",
        "It is very common to combine multiple sequences into a single multi-FASTA file like this:\n",
        "\n",
        "    >ON084923.1 Influenza A virus (A/ostriches (Struthio camelus)/Egypt/Mansoura1/2022(H5N8)) segment 4 hemagglutinin, HA2 region, (HA) gene, partial cds\n",
        "    GTACCACCATAGCAATGAGCAGGGGAGTGGGTACGCTGCAGACAAAGAATCCACTCAAAAGGCAATAGAT\n",
        "    GGAGTTACCAATAAGGTCAACTCAATCATTGACAAAATGAACACTCAATTTGAGGCAGTTGGAAGGGAGT\n",
        "    TTAATAACTTAGAAAGGAGGATAGAGAATTTGA\n",
        "    \n",
        "    >MW170960.1 Influenza A virus (A/swine/Italy/410927/2018(H1N2)) segment 6 neuraminidase (NA) gene, partial cds\n",
        "    CCTTATGCAGATTGCTATCCTGGTAACTACTGTTACATTTCACTTCAAGCAATATGAATACAATTTCTAC\n",
        "    CCAAACAACCAAGTAATGCCATGTGAACCAACGATAATTGAAAGAAACATAACAGAAATAGTGTACCTGG\n",
        "    CCAACACCAC\n",
        "    \n",
        "    >MW170083.1 Influenza A virus (A/swine/Italy/134212/2019(H1N2)) segment 6 neuraminidase (NA) gene, partial cds\n",
        "    GTAGTAACTGCCTGAGTCCTAATAATGAAGAAGGGGGTCATGGGGTAAAAGGCTGGGCCTTTGATGATGG\n",
        "    AAATGATGTTTGGATGGGAAGAACGATCAGCGAAAAGTTACGATTAGGTTATGAAACCTTCAAGGTCATC\n",
        "    GACGGTTGGTCCAAGCC\n",
        "    \n",
        "    >MW169741.1 Influenza A virus (A/swine/Italy/8745/2019(H3N2)) segment 2 polymerase PB1 (PB1) gene, partial cds\n",
        "    TCGTTCCATCCTCAATACTAGCCAAAGGGGAATTCTTGAGGATGAGCAAATGTATCAGAAGTGCTGCAAT\n",
        "    TTATTTGAGAAATTCTTCCCTAGCAGTTCATACAGGAGGCCAGTGGGAATTTCAAGCATGGTGGAGGCCA\n",
        "    TGGTATCTAGGGCCAGAATTGATGCACGGATTGATTTCGAGTCTGGAAGGATTAATAAAGAAGAATTTGC\n",
        "    TGAGATCATGAAGATCTGTTCCACCATAGAAGAGTTCAGACGGCAAAAGTAG\n",
        "    \n",
        "    >OM149369.1 Influenza A virus (A/Hilly chicken/Bangladesh/Avian Influenza Virus/2019(H9)) segment 4 hemagglutinin (HA) gene, partial cds\n",
        "    AATTTCTTAGCTAGCAAAATGGAAACAATAACACTGATGACTACACTACTATTAACAACAACGAGCCTTG\n",
        "    CAGACAAAATCTGTATCGGCCACCAATCGACAAATTCTACAGAAACTGTAGACACACTAACAGAAACTAA\n",
        "    CGTTCCTGTGACACATGCCAAAGAGTTGCTCCATACGGATCACAATGGAATGCTGTGTGCAACAAATCTA\n",
        "    GGACATCCCCTCATCCTAGATAAATGTAACGTAGAAGGACTGATCTACGGCAACCCTTCTTGTGATCT\n",
        "\n",
        "\n",
        "If you want a more detailed history of the FASTA file format, then you could take a look at the Wikipedia page here: https://en.wikipedia.org/wiki/FASTA_format.\n",
        "\n"
      ],
      "metadata": {
        "id": "kGacqX-AGDKt"
      }
    },
    {
      "cell_type": "markdown",
      "source": [
        "## FASTQ\n",
        "The widely used FASTA file format has the great advantage of simplicity. However, this simplicity can be restrictive if we want to include additional data/metadata in addition to the sequence.\n",
        "Given the non-negligible error rates of NGS technologies, often we need to accompany our sequence data with quality scores that estimate our confidence in the accuracy of the sequence data. As we will see later, this allows us to perform quality control checks and filter-out poor-quality data before performing analyses.\n",
        "FASTQ is a simple text-based format that allows us to include quality scores. A single sequence is represented by four lines of text:\n",
        "\n",
        "    @ERR8261968.1 1 length=97\n",
        "    ACTTTCGATCTCTTGTAGATCTGTTCTCTAAACGAACTTTAAAATCTGTGTGGCTGTCACTCGGCTGCATGCTTAGTGCACTCACGCAGTATAATTA\n",
        "    +ERR8261968.1 1 length=97\n",
        "    CCCCCFDDFFFFGGGGGGGGGGHHHHHHHHHHHGGGGHHHHHHHHHHHHHHHGHHGHHIIHHGGGGGGHHHHHHHHHHHHHHHHHHHGGGHHHHHHH\n",
        "\n",
        "- The first line is a 'header' containing a unique identifier for the sequence and, optionally, further description.\n",
        "- The second line contains the actual nucleotide sequence.\n",
        "- The third line is redundant  and can be safely ignored. Sometimes it simply repeats the first line. Sometimes it is blank or just contains a '+' character.\n",
        "- The fourth line contains a string of characters that encode quality scores for each nucleotide in the sequence. Each single character encodes a score, typically   a number between 0 and 40; this score is encoded by a single character, as we saw during the introductory lecture.\n",
        "\n",
        "| Character | ASCII | FASTQ quality score (ASCII – 33) \n",
        "| --|--|--\n",
        "| ! | 33 | 0\n",
        "| “ | 34 | 1\n",
        "| # | 35 | 2\n",
        "| $ | 36 | 3\n",
        "| % | 37 | 4\n",
        "| ... | ... | ...\n",
        "| C | 67 | 34\n",
        "| D | 68 | 35\n",
        "| E | 69 | 36\n",
        "| F | 70 | 37\n",
        "| G | 71 | 38\n",
        "| H | 72 | 39\n",
        "|40 | 73 | 40\n",
        "\n",
        "So, in the example above, we can see that most of the positions within the 97-nucleotide sequence have scores in the high 30s, which indicates a high degree of confidence in their accuracy.\n",
        "- A score of 30 denotes a 1 in 1000 chance of an error, i.e. 99.9 %accuracy.\n",
        "- A score of 40 denotes a 1 in 10,000 chance of an error, i.e. 99.99 %accuracy.\n",
        "\n",
        "You can read more about the FastQ file format and quality scores here:\n",
        "Cock, P. J., Fields, C. J., Goto, N., Heuer, M. L., & Rice, P. M. (2010). The Sanger FASTQ file format for sequences with quality scores, and the Solexa/Illumina FASTQ variants. *Nucleic Acids Research*, **38**, 1767–1771. https://doi.org/10.1093/nar/gkp1137.\n",
        "\n"
      ],
      "metadata": {
        "id": "kSrZRbuUGHdJ"
      }
    },
    {
      "cell_type": "markdown",
      "source": [
        "## SAM and BAM\n",
        "\n",
        "A SAM file (usually named *.sam) is used to represent aligned sequences. It is particularly useful for storing the results of aligning genomic or transcriptomic sequence reads aligned against a reference genome sequence. The BAM file format is a compressed form of SAM. This has the disadvantage that it is not readable by a human but has the advantage of being smaller than the corresponding SAM file and thus easier to share and copy between locations.\n",
        "\n",
        "You can read about SAM and BAM formats here:\n",
        " - Li, H., Handsaker, B., Wysoker, A., Fennell, T., Ruan, J., Homer, N., Marth, G., Abecasis, G., Durbin, R., & 1000 Genome Project Data Processing Subgroup (2009). The Sequence Alignment/Map format and SAMtools. *Bioinformatics*, **25**, 2078–2079. https://doi.org/10.1093/bioinformatics/btp352 and\n",
        "-  [https://samtools.github.io/hts-specs/SAMv1.pdf](https://samtools.github.io/hts-specs/SAMv1.pdf).\n",
        "\n",
        "We can view BAM files graphically using a specialised genome browser software such as:\n",
        "- [IGV](https://igv.org/)\n",
        "- [Tablet](https://ics.hutton.ac.uk/tablet/)\n",
        "- [Artemis / BAMview](http://sanger-pathogens.github.io/Artemis/BamView/) \n",
        "\n"
      ],
      "metadata": {
        "id": "80qPmO7hGU2O"
      }
    },
    {
      "cell_type": "markdown",
      "source": [
        "# Public repositories of NGS data \n",
        "The Sequence Read Archive (SRA) contains a huge number of sequence reads generated by various NGS methods. We can browse this data on the web via the NCBI's web portal. We can also download NGS datasets in FastQ format and analyse them locally, for example in our virtual machine. Let's a take a look at an example dataset: [SRR19504912](https://www.ncbi.nlm.nih.gov/sra/?term=SRR19504912)\n",
        "\n",
        ". Which virus does this sequencing dataset come from?\n",
        "\n",
        "Let's use the web interface to take a look at a few of the sequence reads in this dataset. Click on where it says [SRR19504912](https://trace.ncbi.nlm.nih.gov/Traces/sra/?run=SRR19504912) under 'Run'. Then click on the 'Reads' tab. This will take you to [this page](https://trace.ncbi.nlm.nih.gov/Traces/index.html?view=run_browser&page_size=10&acc=SRR19504912&display=reads), which looks like this:\n",
        "\n",
        "![enter image description here](https://github.com/WCSCourses/ViralBioinfAsia2022/raw/main/course_data/NGS_file_formats_and_data_QC/images/Screenshot%202022-07-31%20at%2016.05.10.png)\n",
        "\n",
        "In the figure above, we can see a single sequence read along with the quality scores for each nucleotide position in its sequence. Notice that the scores are high (well above 30) for most of this sequence read."
      ],
      "metadata": {
        "id": "rD-S7SZYGmIK"
      }
    },
    {
      "cell_type": "markdown",
      "source": [
        "Now let's download the sequence data (i.e. the whole set of reads) from this sequencing run from the SRA. Unfortunately it is not easy to download the data directly from the NCBI website; instead we have to use the *fasterq-dump* tool from the [NCBI's SRA Toolkit](https://github.com/ncbi/sra-tools/wiki/01.-Downloading-SRA-Toolkit). So, first execute this command in the Terminal:"
      ],
      "metadata": {
        "id": "IIwS8vTVGxBS"
      }
    },
    {
      "cell_type": "code",
      "source": [
        "#download the SRA toolkit using wget\n",
        "!wget --output-document sratoolkit.tar.gz https://ftp-trace.ncbi.nlm.nih.gov/sra/sdk/current/sratoolkit.current-ubuntu64.tar.gz\n"
      ],
      "metadata": {
        "id": "6DNTVUFJeGIb"
      },
      "execution_count": null,
      "outputs": []
    },
    {
      "cell_type": "code",
      "source": [
        "#Unpack the downloaded file using  tar - tar is an excellent tool to pack and unpack files\n",
        "!tar -vxzf sratoolkit.tar.gz"
      ],
      "metadata": {
        "id": "UKLrq-RSleFX"
      },
      "execution_count": null,
      "outputs": []
    },
    {
      "cell_type": "code",
      "source": [
        "#the following commands add the toolkit to the expected places where tools can be found on Colab\n",
        "!export PATH=$PATH:$PWD/sratoolkit.3.0.0-ubuntu64/bin; which fastq-dump\n"
      ],
      "metadata": {
        "id": "uknpF35Fl19e"
      },
      "execution_count": null,
      "outputs": []
    },
    {
      "cell_type": "code",
      "source": [
        "# this command runs a config for using NCBI SRA to access data, it usually runs with a interactive session, but that fails on colab\n",
        "# this is the interactive command, it will cause a segmentation fault, but you must run\n",
        "!sratoolkit.3.0.0-ubuntu64/bin/vdb-config --interactive\n"
      ],
      "metadata": {
        "id": "qO6Dq3NlmpvG"
      },
      "execution_count": null,
      "outputs": []
    },
    {
      "cell_type": "code",
      "source": [
        "#this command runs without the interactive, and somehow allows the the subsequent commands to work is colab\n",
        "#NB this may not work indefinetly on colab with SRA tools\n",
        "# if this command fails, you may use wget https://wcs_data_transfer.cog.sanger.ac.uk/SRR19504912.zip then unzip\n",
        "!sratoolkit.3.0.0-ubuntu64/bin/vdb-config"
      ],
      "metadata": {
        "id": "dG_2LPb2K1pd"
      },
      "execution_count": null,
      "outputs": []
    },
    {
      "cell_type": "code",
      "source": [
        "# this command uses the fasterq-dump tool to download the SRR19504912 dataset\n",
        "!sratoolkit.3.0.0-ubuntu64/bin/fasterq-dump SRR19504912 \n"
      ],
      "metadata": {
        "id": "T884Ke5HmD5Z"
      },
      "execution_count": null,
      "outputs": []
    },
    {
      "cell_type": "markdown",
      "source": [
        "You should then see some output something like this:\n",
        "\n",
        "    spots read      : 306,691\n",
        "    reads read      : 613,382\n",
        "    reads written   : 613,382\n",
        "\n",
        "you will notice that new files have been created called *SRR19504912_1.fastq*  and *SRR19504912_2.fastq*. There are two files because this dataset consists of paired sequence reads. "
      ],
      "metadata": {
        "id": "6NxMsd0BM-sV"
      }
    },
    {
      "cell_type": "code",
      "source": [
        "# now to install two key tools - fastqc and trim-galore\n",
        "!conda install -c bioconda fastqc -y\n",
        "!conda install -c bioconda trim-galore"
      ],
      "metadata": {
        "id": "UUrojusnp7TE"
      },
      "execution_count": null,
      "outputs": []
    },
    {
      "cell_type": "code",
      "source": [
        "#this command will run on ANY fastq file in the directory\n",
        "#We only have two here, but you may have thousands, consider the * operator carefully\n",
        "!fastqc *.fastq"
      ],
      "metadata": {
        "id": "EfeOMtz9qdGz"
      },
      "execution_count": null,
      "outputs": []
    },
    {
      "cell_type": "markdown",
      "source": [
        "This will generate some messages something like this:\n",
        "\n",
        "    Started analysis of SRR19504912_1.fastq\n",
        "    Approx 5% complete for SRR19504912_1.fastq\n",
        "    Approx 10% complete for SRR19504912_1.fastq\n",
        "    ...\n",
        "    Approx 90% complete for SRR19504912_1.fastq\n",
        "    Approx 95% complete for SRR19504912_1.fastq\n",
        "    Analysis complete for SRR19504912_1.fastq\n",
        "    Started analysis of SRR19504912_2.fastq\n",
        "    Approx 5% complete for SRR19504912_2.fastq\n",
        "    Approx 10% complete for SRR19504912_2.fastq\n",
        "    Approx 15% complete for SRR19504912_2.fastq\n",
        "    ...\n",
        "    Approx 90% complete for SRR19504912_2.fastq\n",
        "    Approx 95% complete for SRR19504912_2.fastq\n",
        "    Analysis complete for SRR19504912_2.fastq\n",
        "\n",
        "\n",
        "Now, execute the command `ls -lh` and you should see some new files have appeared:\n"
      ],
      "metadata": {
        "id": "Fi_LJFA1QWDy"
      }
    },
    {
      "cell_type": "code",
      "source": [
        "#run the ls -lh command - what do the -l and -h operators do?\n",
        "!ls -lh"
      ],
      "metadata": {
        "id": "srnDx4tLQX6g"
      },
      "execution_count": null,
      "outputs": []
    },
    {
      "cell_type": "markdown",
      "source": [
        "Take a look at the first few lines of each file by executing this command:     \n",
        "```\n",
        "head *.fastq\n",
        "```"
      ],
      "metadata": {
        "id": "mjOixXmXPves"
      }
    },
    {
      "cell_type": "code",
      "source": [
        "#try the head command here, try it for both, then individual files\n"
      ],
      "metadata": {
        "id": "twRbrsqosAh6"
      },
      "execution_count": null,
      "outputs": []
    },
    {
      "cell_type": "markdown",
      "source": [
        "We are most interested in the HTML files, which contain the FastQC reports for our two fastq files. To view the output, you will need to download and use the html file. To do so, click the \"three dots\" you will see when hovering over the .html file with your mouse pointer and download it, then open your download in a browser \n",
        "\n",
        "![Screenshot 2022-10-24 at 16.48.48.png](data:image/png;base64,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)"
      ],
      "metadata": {
        "id": "PSOskAWQrC11"
      }
    },
    {
      "cell_type": "markdown",
      "source": [
        "You should then see something like this:\n",
        "\n",
        "![enter image description here](https://github.com/WCSCourses/ViralBioinfAsia2022/raw/main/course_data/NGS_file_formats_and_data_QC/images/Screenshot%202022-07-31%20at%2015.28.02.png)\n",
        "\n",
        "Note that there are two tabs in the Firefox web browser; there is one for the QC report for *SRR19504912_1.fastq*  and another for *SRR19504912_2.fastq*.\n",
        "\n",
        "There is a lot of QC information in these reports. Feel free to explore these in your own time and take a look at the FastQC homepage at https://www.bioinformatics.babraham.ac.uk/projects/fastqc/ and see the tutorial video at http://www.youtube.com/watch?v=bz93ReOv87Y.\n",
        "\n",
        "For now, we are just going to look at\n",
        "- Basic statistics\n",
        "- Per-base sequence quality \n",
        "- Adapter content"
      ],
      "metadata": {
        "id": "qbMjm0Z-RBh1"
      }
    },
    {
      "cell_type": "markdown",
      "source": [
        "### Questions:\n",
        "\n",
        " - How many sequence reads are there? Does your answer match your\n",
        "   previous answer (based on `wc -l`) ?\n",
        " - With respect to quality scores, which of the two files has better-quality data: *SRR19504912_1.fastq* or *SRR19504912_2.fastq*.\n",
        " - Are these datasets contaminated with any Illumina sequencing adapter oligonucleotides?\n",
        "\n"
      ],
      "metadata": {
        "id": "j5esVvTPRN7G"
      }
    },
    {
      "cell_type": "markdown",
      "source": [
        "Add your answers to the questions here: (double click a text block to edit) \n",
        "\n",
        "Sequence reads:\n",
        "\n",
        "Quality:\n",
        "\n",
        "Contamination:"
      ],
      "metadata": {
        "id": "bplC-_AhRU_5"
      }
    },
    {
      "cell_type": "markdown",
      "source": [
        "## Trimming and filtering to remove poor-quality data\n",
        "\n",
        "When you inspected the FastQC reports, you probably noticed that *SRR19504912_1.fastq* and *SRR19504912_2.fastq* include some sequence reads that contain very poor quality scores and some reads that are derived from the Illumina adapters rather than from the target viral nucleotide sequences. Now, we are going to look at how we can remove poor data and contamination by trimming and filtering. We will use [TrimGalore](https://www.bioinformatics.babraham.ac.uk/projects/trim_galore/) by executing the following command"
      ],
      "metadata": {
        "id": "Ugyug1QjRu_5"
      }
    },
    {
      "cell_type": "code",
      "source": [
        "!trim_galore -q 25 --length 50 --paired SRR19504912_1.fastq SRR19504912_2.fastq"
      ],
      "metadata": {
        "id": "sIok1rkfRuQf"
      },
      "execution_count": null,
      "outputs": []
    },
    {
      "cell_type": "markdown",
      "source": [
        "Now, when you list the contents of the directory with ls -lh, you will notice two new files called SRR19504912_1_val_1.fq and SRR19504912_2_val_2.fq. These are the trimmed-and-filtered versions of original files SRR19504912_1.fastq and SRR19504912_2.fastq. Now, let’s run FastQC on these two new ‘cleaned’ files:\n"
      ],
      "metadata": {
        "id": "ZYEda6PYR9a1"
      }
    },
    {
      "cell_type": "code",
      "source": [
        "#run the ls -lh command"
      ],
      "metadata": {
        "id": "AJSbx8ddSCjX"
      },
      "execution_count": null,
      "outputs": []
    },
    {
      "cell_type": "code",
      "source": [
        "#run fastqc *.fq\n",
        "!fastqc *.fq\n"
      ],
      "metadata": {
        "id": "Nej6LHUfSYVa"
      },
      "execution_count": null,
      "outputs": []
    },
    {
      "cell_type": "markdown",
      "source": [
        "This will create QC reports, in HTML format, for the cleaned FASTQ files. Now let’s take a look at these files like you did earlier by downloading the html file and opening it in a browser"
      ],
      "metadata": {
        "id": "AHlwUuBgSgQF"
      }
    },
    {
      "cell_type": "markdown",
      "source": [
        "### Questions:\n",
        "\n",
        " - How many reads were removed by TrimGalore from each FASTQ file?\n",
        " - What impact has TrimGalore had upon the lengths of the sequence reads?\n",
        " - What impact has TrimGalore had upon adapter contamination?\n",
        " - Has TrimGalore altered  the distribution of quality scores?\n",
        " \n",
        " You can read more about TrimGalore at https://www.bioinformatics.babraham.ac.uk/projects/trim_galore/.\n",
        "\n",
        "Congratulations on reaching the end of this session! You should now be familiar with some of the most common file formats used in analysing NGS data and you know how to access and perform some basic QC on datasets of NGS sequence reads.\n"
      ],
      "metadata": {
        "id": "TFHy27CPS6Qn"
      }
    },
    {
      "cell_type": "markdown",
      "source": [
        "Answer your questions here:\n",
        "\n",
        " - How many reads were removed by TrimGalore from each FASTQ file?\n",
        " \n",
        " - What impact has TrimGalore had upon the lengths of the sequence reads?\n",
        "\n",
        " - What impact has TrimGalore had upon adapter contamination?\n",
        "\n",
        " - Has TrimGalore altered  the distribution of quality scores?\n",
        " \n"
      ],
      "metadata": {
        "id": "vkaiiVNeS8Ru"
      }
    },
    {
      "cell_type": "markdown",
      "source": [
        "### Bonus!\n",
        "\n",
        "#### What if you had a large number of FastQC reports to analyze?\n",
        "\n",
        "Multiqc (https://multiqc.info/) is a tool that summarizes different types of NGS reports (not just FastQC).\n",
        "\n",
        "First, install the tool:\n",
        "\n",
        "    pip install multiqc\n",
        "\n",
        "In the folder with reports, run:\n",
        "\n",
        "    multiqc .\n",
        "\n",
        "See summarized report in a browser - multiqc_report.html\n"
      ],
      "metadata": {
        "id": "UbQrYRNJTNa6"
      }
    },
    {
      "cell_type": "code",
      "source": [
        "#try the bonus commands here and below :-D \n",
        "!pip install multiqc"
      ],
      "metadata": {
        "id": "PCKTeVHyTRw6"
      },
      "execution_count": null,
      "outputs": []
    },
    {
      "cell_type": "code",
      "source": [
        "!multiqc ."
      ],
      "metadata": {
        "id": "5Uox0TIBTXxk"
      },
      "execution_count": null,
      "outputs": []
    },
    {
      "cell_type": "markdown",
      "source": [
        "## **Credits:**\n",
        "Progress Dube\n",
        "\n",
        "Marcela Suarez Esquivel\n",
        "\n",
        "Leigh Jackson\n",
        "\n",
        "Srikeerthana Kuchi (Intro to Unix Commands)\n",
        "\n",
        "David Studholme  (Introduction to NGS formats and QC)\n",
        "\n",
        "COG-Train\n",
        "Wellcome Connection Science"
      ],
      "metadata": {
        "id": "BCNxKXr6eo4F"
      }
    },
    {
      "cell_type": "markdown",
      "source": [
        "#Introduction to strings in Python\n",
        "(For extra homework)\n",
        "\n",
        "A string is a series of characters. In Python, anything inside quotes is a string. And you can use either single or double quotes\n",
        "The text below combines both code and text for some clarification. The program differentiates the text from the code, by placing a # symbol in front of the text. This means that the text won`t be read by the program as a command.\n"
      ],
      "metadata": {
        "id": "cKkTmyARj-MC"
      }
    },
    {
      "cell_type": "code",
      "source": [
        "s = ('This is a string') #And it has been assigned to a variable called 's'\n",
        "\n",
        "('This is also a string') #However, this string was NOT assigned to a variable, or printed to the screen, or written to an output file\n",
        "# So, it really serves no purpose\n",
        "# It's code garbage\n",
        "\n",
        "# To send the contents of the string to the screen (i.e., terminal window), use the 'print' command\n",
        "\n",
        "print (\"s\")\n",
        "\n",
        "# You can also print strings directly, without assigning them to a variable first\n",
        "print ('This is also a string')\n",
        "print (\"This is a string in double quotes\") # Double and single quotes are interchangeable in Python, both can be used to create strings\n",
        "\n",
        "# Triple quotes can be used to generate multiline strings\n",
        "print (\"\"\"This string spans\n",
        "multiple lines\"\"\")\n",
        "\n",
        "#However, the same can be accomplished using the \\n notation\n",
        "print (\"This string spans\\nmultiple lines\")\n",
        "\n",
        "# In Python, strings are immutable, which means that they cannot be altered\n",
        "alpha = (\"abcdefghijklmnop\")\n",
        "\n",
        "# Therefore, you can't directly add the rest of the alphabet onto the string currently assigned to the variable alpha\n",
        "# However, you can reassign variable names to altered versions of strings\n",
        "\n",
        "alpha = (alpha + \"qrstuvwxyz\")  #I know...it's a subtle distinction, but will become important later\n",
        "#The above statement might seem a bit strange because we are both using and reassigning the alpha variable in the same line\n",
        "#However, this works because the statement to the right of the \"=\" is evaluated BEFORE the variable is reassigned\n",
        "print (alpha)"
      ],
      "metadata": {
        "id": "dhdOtyHZj_4m"
      },
      "execution_count": null,
      "outputs": []
    }
  ]
}