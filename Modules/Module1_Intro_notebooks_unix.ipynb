{
  "nbformat": 4,
  "nbformat_minor": 0,
  "metadata": {
    "colab": {
      "name": "Module1_Intro_notebooks_unix.ipynb",
      "provenance": []
    },
    "kernelspec": {
      "name": "python3",
      "display_name": "Python 3"
    },
    "language_info": {
      "name": "python"
    }
  },
  "cells": [
    {
      "cell_type": "markdown",
      "source": [
        "This is a text box\n",
        "\n",
        "# this is a header \n"
      ],
      "metadata": {
        "id": "VZpWDT_qK5mE"
      }
    },
    {
      "cell_type": "code",
      "execution_count": 2,
      "metadata": {
        "colab": {
          "base_uri": "https://localhost:8080/"
        },
        "id": "dvo4cVYzKyzY",
        "outputId": "0a5ea0e5-d535-49fe-e7ba-967fd698c6d4"
      },
      "outputs": [
        {
          "output_type": "stream",
          "name": "stdout",
          "text": [
            "mkdir: cannot create directory ‘first_directory’: File exists\n",
            "/content\n"
          ]
        }
      ],
      "source": [
        "!mkdir first_directory\n",
        "!pwd"
      ]
    },
    {
      "cell_type": "code",
      "source": [
        "!cd first_directory; pwd"
      ],
      "metadata": {
        "colab": {
          "base_uri": "https://localhost:8080/"
        },
        "id": "1yjkW5M7LbMz",
        "outputId": "b66ce60c-dc02-4310-ccfd-3895b39202f6"
      },
      "execution_count": 5,
      "outputs": [
        {
          "output_type": "stream",
          "name": "stdout",
          "text": [
            "/content/first_directory\n"
          ]
        }
      ]
    }
  ]
}