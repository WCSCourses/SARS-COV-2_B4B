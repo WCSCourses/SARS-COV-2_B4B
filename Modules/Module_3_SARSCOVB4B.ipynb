{
  "nbformat": 4,
  "nbformat_minor": 0,
  "metadata": {
    "colab": {
      "provenance": [],
      "collapsed_sections": []
    },
    "kernelspec": {
      "name": "python3",
      "display_name": "Python 3"
    },
    "language_info": {
      "name": "python"
    }
  },
  "cells": [
    {
      "cell_type": "markdown",
      "source": [
        "# Module 3: Variant Lineage Identification_SARSCOVB4B\n",
        "\n",
        "Welcome to the module! There are some very important instructions for you to follow:\n",
        "\n",
        "1.) Click on File on the top left corner and select save a copy in drive\n",
        "\n",
        "**Your changes will not be saved if you do not do this step**\n",
        "\n",
        "2.) Click on the name of the workbook in the top left corner and replace \"Copy of\" with your full name\n",
        "\n",
        "**You will be submitting the downloaded notebook file as your proof of completion for this module**\n"
      ],
      "metadata": {
        "id": "VZpWDT_qK5mE"
      }
    },
    {
      "cell_type": "markdown",
      "source": [
        "Please type: \n",
        "```\n",
        "print(\"Yes, I have done step 1\") \n",
        "```\n",
        "into the code block below, then run by clicking the \"triangle\"/\"Play\" icon on that block \n",
        "\n"
      ],
      "metadata": {
        "id": "HkAHdwWUJKoZ"
      }
    },
    {
      "cell_type": "code",
      "source": [
        "from google.colab import drive\n",
        "drive.mount('/content/drive')"
      ],
      "metadata": {
        "colab": {
          "base_uri": "https://localhost:8080/"
        },
        "id": "dsj3C2d6H__o",
        "outputId": "0e2b06bb-89b9-4b79-ec5f-478921223e0a"
      },
      "execution_count": 1,
      "outputs": [
        {
          "output_type": "stream",
          "name": "stdout",
          "text": [
            "Mounted at /content/drive\n"
          ]
        }
      ]
    },
    {
      "cell_type": "code",
      "source": [
        "#this block will be checked"
      ],
      "metadata": {
        "id": "lza1ngCWKHbX"
      },
      "execution_count": null,
      "outputs": []
    },
    {
      "cell_type": "markdown",
      "source": [
        "Please type: \n",
        "```\n",
        "print(\"Yes, I have completed step 2\") \n",
        "```\n",
        "into the code block below, then run by clicking the \"triangle\"/\"Play\" icon on that block \n",
        "\n"
      ],
      "metadata": {
        "id": "l166Rx0ZKLqh"
      }
    },
    {
      "cell_type": "code",
      "source": [
        "#this block will be checked"
      ],
      "metadata": {
        "id": "nsufot4fKS01"
      },
      "execution_count": null,
      "outputs": []
    },
    {
      "cell_type": "code",
      "source": [],
      "metadata": {
        "id": "UfwLtJgMN8Js",
        "colab": {
          "base_uri": "https://localhost:8080/"
        },
        "outputId": "d952842b-57a8-4290-ec23-98760143d748"
      },
      "execution_count": 1,
      "outputs": [
        {
          "output_type": "stream",
          "name": "stdout",
          "text": [
            "/content\n"
          ]
        }
      ]
    },
    {
      "cell_type": "markdown",
      "source": [
        "# Installing Conda\n",
        "Conda is a versatile software management tool. Conda is an open source system of managing tools and libraries. More info on the library used to install conda on Google Colab is at this [website](https://inside-machinelearning.com/en/how-to-install-use-conda-on-google-colab/)\n",
        "\n",
        "Note - your runtime will refresh and reconnect after running this. It will say runtime crashed, this seems normal, wait for the session to reconnect after this.\n",
        "\n",
        "You can check out this repo for how this tool works:\n",
        "https://github.com/conda-incubator/condacolab \n",
        "\n",
        "If you have installed this previously (which I hope you have from the previous module), then you can skip this\n"
      ],
      "metadata": {
        "id": "G7mk1VecOHLQ"
      }
    },
    {
      "cell_type": "code",
      "source": [
        "!pip install -q condacolab\n",
        "import condacolab\n",
        "condacolab.install()"
      ],
      "metadata": {
        "colab": {
          "base_uri": "https://localhost:8080/"
        },
        "id": "jOTBUZ3gOFm3",
        "outputId": "5c423c5e-cef2-41c9-ee09-d2c6744c0e40"
      },
      "execution_count": 2,
      "outputs": [
        {
          "output_type": "stream",
          "name": "stdout",
          "text": [
            "⏬ Downloading https://github.com/jaimergp/miniforge/releases/latest/download/Mambaforge-colab-Linux-x86_64.sh...\n",
            "📦 Installing...\n",
            "📌 Adjusting configuration...\n",
            "🩹 Patching environment...\n",
            "⏲ Done in 0:00:21\n",
            "🔁 Restarting kernel...\n"
          ]
        }
      ]
    },
    {
      "cell_type": "markdown",
      "source": [
        "# Python vs Bash\n",
        "## Key differences in working on Google Colab\n",
        "\n",
        "\n",
        "The main differences are use a ! when wanting to execute bash commands. Do not put that when wanting Python to execute"
      ],
      "metadata": {
        "id": "p5SImQk-LGMe"
      }
    },
    {
      "cell_type": "code",
      "execution_count": null,
      "metadata": {
        "id": "dvo4cVYzKyzY",
        "colab": {
          "base_uri": "https://localhost:8080/"
        },
        "outputId": "5565315c-feb8-45fe-b57d-ad78ad8712dd"
      },
      "outputs": [
        {
          "output_type": "stream",
          "name": "stdout",
          "text": [
            "This is a python command\n"
          ]
        }
      ],
      "source": [
        "#example of python\n",
        "print(\"This is a python command\")"
      ]
    },
    {
      "cell_type": "code",
      "source": [
        "#example of bash\n",
        "!echo \"This is a bash command\""
      ],
      "metadata": {
        "id": "1yjkW5M7LbMz",
        "colab": {
          "base_uri": "https://localhost:8080/"
        },
        "outputId": "b33fe5a2-d54b-4758-8807-c25cf913fd6d"
      },
      "execution_count": null,
      "outputs": [
        {
          "output_type": "stream",
          "name": "stdout",
          "text": [
            "This is a bash command\n"
          ]
        }
      ]
    },
    {
      "cell_type": "markdown",
      "source": [
        "## Testing your conda installation\n",
        "After successfully install condacolab, you need to be sure that you can call conda from your shell and install software and also execute them. \n",
        "The --help command is an easy way to test that it is properly installed as it will display the help options used in running the tool."
      ],
      "metadata": {
        "id": "yESC04s9KoEd"
      }
    },
    {
      "cell_type": "code",
      "source": [
        "#You can check conda installation by launching the help command\n",
        "!conda --help\n"
      ],
      "metadata": {
        "id": "flkQBFR1K892"
      },
      "execution_count": null,
      "outputs": []
    },
    {
      "cell_type": "markdown",
      "source": [
        "## Check pre-installed conda packages\n",
        "After conda is installed, it comes with some packages and software that are installed alongside the software. To generate a list of these packages, simply run the code below:"
      ],
      "metadata": {
        "id": "XxSaFl6slUXM"
      }
    },
    {
      "cell_type": "code",
      "source": [
        "!conda list"
      ],
      "metadata": {
        "id": "h00eUuhdlwy_"
      },
      "execution_count": null,
      "outputs": []
    },
    {
      "cell_type": "markdown",
      "source": [
        "## Installiing Pangolin for variant detection\n",
        "PANGOlin is an acronym for Phylogenetic Assignment of Named Global Outbreak Lineages. It is a software that assigns your SARS-CoV-2 genome to the most closest related SARS-CoV-2 lineage on the global context based on the mutations in the query sequence. Pangolin can be accessed on its web application which allows you to upload your FASTA files here: https://pangolin.cog-uk.io/. Also, this software can be installed within conda by running the code below:"
      ],
      "metadata": {
        "id": "O8a71SiXma5u"
      }
    },
    {
      "cell_type": "code",
      "source": [
        "!conda install -c bioconda -c conda-forge -c defaults pangolin=4.1.1"
      ],
      "metadata": {
        "id": "FKkeS08Izq1e"
      },
      "execution_count": null,
      "outputs": []
    },
    {
      "cell_type": "code",
      "source": [
        "# Update tabulate dependency to prevent errors associated with Pangolin\n",
        "!pip install tabulate==0.8.10"
      ],
      "metadata": {
        "id": "8xd-GEv8IqO8"
      },
      "execution_count": null,
      "outputs": []
    },
    {
      "cell_type": "markdown",
      "source": [
        "To check that Pangolin installed correctly, run the following command:"
      ],
      "metadata": {
        "id": "kz78Z-Y37Y09"
      }
    },
    {
      "cell_type": "code",
      "source": [
        "!pangolin --help"
      ],
      "metadata": {
        "id": "C04BdH67701K"
      },
      "execution_count": null,
      "outputs": []
    },
    {
      "cell_type": "markdown",
      "source": [
        "Now you have successfully installed Pangolin and displayed the help options which shows you the commands and options you can adjust to execute your analysis with the software."
      ],
      "metadata": {
        "id": "skRxdbHWAqlE"
      }
    },
    {
      "cell_type": "markdown",
      "source": [
        "## Navigate to Directory containing Genomes\n",
        "There are some test SARS-CoV-2 genome assemblies that were downloaded from GISAID in the \"assemblies_gisaid\" folder. Run the following command to switch to that directory:"
      ],
      "metadata": {
        "id": "QYH__ysqA8Tw"
      }
    },
    {
      "cell_type": "code",
      "source": [
        "!cd drive/Shareddrives/SARS_COV_2_B4B/03-consensus/assemblies_gisaid/"
      ],
      "metadata": {
        "id": "RKLApCAaBbx3"
      },
      "execution_count": 9,
      "outputs": []
    },
    {
      "cell_type": "markdown",
      "source": [
        "# Practical questions\n",
        "Please answer the following questions in the code blocks below\n",
        "\n",
        "1.   How do you list the contents of this directory?\n",
        "2.   How do you create a folder named \"results\" in your directory?\n",
        "3.   How do you view the contents of one of the FASTA files? \n",
        "\n"
      ],
      "metadata": {
        "id": "971FGhBBLjJv"
      }
    },
    {
      "cell_type": "markdown",
      "source": [
        "Enter your answers below and launch the command"
      ],
      "metadata": {
        "id": "v7JT--TJLeSS"
      }
    },
    {
      "cell_type": "code",
      "source": [
        "# 1.   List the contents of this directory \n",
        "# enter your code below\n"
      ],
      "metadata": {
        "id": "n3o_SjC2L4KG"
      },
      "execution_count": null,
      "outputs": []
    },
    {
      "cell_type": "code",
      "source": [
        "# 2.   Create a folder named \"results\" in your directory\n",
        "# enter your code below\n"
      ],
      "metadata": {
        "id": "DcWtwQR8L8jh"
      },
      "execution_count": 4,
      "outputs": []
    },
    {
      "cell_type": "code",
      "source": [
        "# 3.   View the contents of one of the FASTA files \n",
        "# enter your code below\n"
      ],
      "metadata": {
        "id": "yLfNEOo2MjAk"
      },
      "execution_count": null,
      "outputs": []
    },
    {
      "cell_type": "markdown",
      "source": [
        "## Merging multiple files\n",
        "In some cases like we do, you will have multiple individual files you want to analyze together, especially FASTA files. In order to merge these files as a **single** multi-FASTA file, we will use the concatenate command"
      ],
      "metadata": {
        "id": "K6Pje1QXEQPA"
      }
    },
    {
      "cell_type": "code",
      "source": [
        "# Let's concatenate all FASTA files using a wildcard\n",
        "!cat drive/Shareddrives/SARS_COV_2_B4B/03-consensus/assemblies_gisaid/*.fasta > combined_genomes.fasta"
      ],
      "metadata": {
        "id": "zHtsxBFLE8ZZ"
      },
      "execution_count": 6,
      "outputs": []
    },
    {
      "cell_type": "markdown",
      "source": [
        "## Launching Pangolin on the multi-FASTA file\n",
        "We try to identify the variants of the genomes we merged together using Pangolin with the default settings and direct our output to the \"results\" folder we earlier created"
      ],
      "metadata": {
        "id": "uJcGpAWjMeXS"
      }
    },
    {
      "cell_type": "code",
      "source": [
        "!pangolin --outdir results combined_genomes.fasta"
      ],
      "metadata": {
        "colab": {
          "base_uri": "https://localhost:8080/"
        },
        "id": "EM2LA7s1hn_e",
        "outputId": "37257efe-a3ca-4583-8b0c-b294152cb032"
      },
      "execution_count": 10,
      "outputs": [
        {
          "output_type": "stream",
          "name": "stdout",
          "text": [
            "/bin/bash: pangolin: command not found\n"
          ]
        }
      ]
    },
    {
      "cell_type": "markdown",
      "source": [
        "**NOTE**: Download the \"lineage_report.csv\" file to your computer and open it with a Spreadsheet software like MS Excel."
      ],
      "metadata": {
        "id": "BYSGi1aaQH9e"
      }
    },
    {
      "cell_type": "markdown",
      "source": [
        "## NextClade\n",
        "This is another fantastic software that can identify variants in your genomes like Pangolin. However, it has additional features in its report, like the number of mutations across the genome and where they are located. Nextclade can be accessible on the web application: https://clades.nextstrain.org/, but lets try to install it via the command line and execute it."
      ],
      "metadata": {
        "id": "EUFQHiEmQm3D"
      }
    },
    {
      "cell_type": "code",
      "source": [
        "!conda install -c bioconda nextclade"
      ],
      "metadata": {
        "id": "L6Md_ww7Ro1Z"
      },
      "execution_count": null,
      "outputs": []
    },
    {
      "cell_type": "code",
      "source": [
        "# To check if Nextclade insalled properly\n",
        "!nextclade --help"
      ],
      "metadata": {
        "id": "f0o_RYdASDTt"
      },
      "execution_count": null,
      "outputs": []
    },
    {
      "cell_type": "code",
      "source": [
        "# Download the SARS-CoV-2 dataset folder for NextClade\n",
        "!nextclade dataset get --name sars-cov-2 --output-dir sars-cov-2-dataset"
      ],
      "metadata": {
        "id": "0vu235maYaZG"
      },
      "execution_count": 35,
      "outputs": []
    },
    {
      "cell_type": "code",
      "source": [
        "# Run NextClade on your concatenated FASTA files to generate  TSV output file\n",
        "!nextclade run --output-tsv nextclade_report.tsv --input-dataset sars-cov-2-dataset combined_genomes.fasta"
      ],
      "metadata": {
        "id": "kXAEnLGdSlkF"
      },
      "execution_count": 36,
      "outputs": []
    },
    {
      "cell_type": "markdown",
      "source": [
        "**NOTE**: Download the \"nextclade_report.tsv\" file and open it with an Spreadsheet software on your computer like MS Excel"
      ],
      "metadata": {
        "id": "PgjfKUueaSBH"
      }
    },
    {
      "cell_type": "markdown",
      "source": [
        "## Assignment\n",
        "Complete this Assignment and Rename the Colab file to refelct your name before submitting to the Welcome Connecting Science LMS.\n",
        "\n",
        "**Excercise**\n",
        "1. Run Pangolin on the FASTA file with a maximum ambiguity of 50% (0.5) and name your result.csv file with your first name and the output directory as your surname using only one command. **Hint** run the --help command to check for the appropriate command\n",
        "2. From your NextClade results, what clades are present in the genomes and what are the proportion?\n",
        "3. Also from your NextClade results, how many amino acid substitutions does the genome from Italy have?\n",
        "4. Can you tell how many missing nucleotides are in the genome from Mali from the nextclade report?\n",
        "\n",
        "Enter your answers below and launch the cells:"
      ],
      "metadata": {
        "id": "IxwWWeddagN0"
      }
    },
    {
      "cell_type": "code",
      "source": [
        "# 1.  name your result.csv file with your first name and the output directory as your surname using only one command\n",
        "# enter your code below\n",
        "\n"
      ],
      "metadata": {
        "id": "Etvz2amFd8dP"
      },
      "execution_count": null,
      "outputs": []
    },
    {
      "cell_type": "code",
      "source": [
        "# 2. What clades are present in the genomes and what are the proportions?\n",
        "# enter your answer below with python print command\n",
        "\n"
      ],
      "metadata": {
        "id": "2BWEBKg_eTzx"
      },
      "execution_count": null,
      "outputs": []
    },
    {
      "cell_type": "code",
      "source": [
        "# 3. How many amino acid substitutions does the genome from Italy have?\n",
        "# enter your answer below with python print command\n",
        "\n"
      ],
      "metadata": {
        "id": "4_OhOE62epxM"
      },
      "execution_count": null,
      "outputs": []
    },
    {
      "cell_type": "code",
      "source": [
        "# 4. How many missing nucleotides are in the genome from Mali?\n",
        "# enter your answer below with bash print echo command\n",
        "\n"
      ],
      "metadata": {
        "id": "in2oGdN-e49K"
      },
      "execution_count": null,
      "outputs": []
    }
  ]
}