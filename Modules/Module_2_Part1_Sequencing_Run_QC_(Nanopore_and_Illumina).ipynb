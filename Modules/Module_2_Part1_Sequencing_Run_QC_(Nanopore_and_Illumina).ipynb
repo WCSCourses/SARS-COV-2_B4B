{
  "cells": [
    {
      "cell_type": "markdown",
      "metadata": {
        "id": "JyG45Qk3qQLS"
      },
      "source": [
        "## Initial QC for Nanopore and Illumina SARS-CoV-2 genome sequencing\n",
        "In this notebook we will analyze the results from sequencing runs, using two approaches to sequence the SARS-CoV-2 genome. Both are based on the **ARTIC protocol**, developed by the [ARTIC Network](https://artic.network/ncov-2019). For Illumina, correspond to the classic ARTIC protocol, wich amplifies the SARS-CoV-2 genome in 98 fragments of 400bp each. For Nanopore, the used protocol is named **\"Midnight Protocol\"** and is based on the amplification of 29 overlapping 1200bp fragments that cover the entire SARS-CoV-2 genome.\n",
        "The content of the notebook can be summarized in:\n",
        "\n",
        "*   Download data\n",
        "*   Install software and prepare environment\n",
        "*   Run a quality control of the run\n"
      ]
    },
    {
      "cell_type": "markdown",
      "source": [
        "# Download data"
      ],
      "metadata": {
        "id": "XpZkbJoJ0aWW"
      }
    },
    {
      "cell_type": "code",
      "source": [
        "!gdown 1JkUU3wcexm9Y532l6IbdIsdY4saMehJO ; unzip Illumina_READS.zip\n",
        "!gdown 1rRhK7H7R9aiPooqtKtT8kugnLNsqmkkR ; unzip Nanopore_READS.zip"
      ],
      "metadata": {
        "id": "ygMYpaDw0YnB"
      },
      "execution_count": null,
      "outputs": []
    },
    {
      "cell_type": "markdown",
      "source": [
        "Installing condacolab"
      ],
      "metadata": {
        "id": "33ZISlFh92bZ"
      }
    },
    {
      "cell_type": "code",
      "source": [
        "!pip install -q condacolab\n",
        "import condacolab\n",
        "condacolab.install()"
      ],
      "metadata": {
        "id": "jymSg1rN92Ak"
      },
      "execution_count": null,
      "outputs": []
    },
    {
      "cell_type": "markdown",
      "source": [
        "# Install software\n",
        "Install FastQC and NanoPlot"
      ],
      "metadata": {
        "id": "fsIZH9hN5Ynw"
      }
    },
    {
      "cell_type": "code",
      "source": [
        "!conda install -c bioconda fastqc\n",
        "!pip install nanoplot"
      ],
      "metadata": {
        "id": "XcKwQKXw5X-n"
      },
      "execution_count": null,
      "outputs": []
    },
    {
      "cell_type": "code",
      "source": [
        "!pip install multiqc"
      ],
      "metadata": {
        "id": "lHsg9XFHEsO8"
      },
      "execution_count": null,
      "outputs": []
    },
    {
      "cell_type": "markdown",
      "source": [
        "# Fastq format\n",
        "\n",
        "All sequencers produces data in a format called **fastq**. The structure is showed below. All sequences with a fastq are represented by 4 lines:\n",
        "\n",
        "```\n",
        "@SEQ_ID                   <---- SEQUENCE NAME\n",
        "AGCGTGTACTGTGCATGTCGATG   <---- SEQUENCE AS BASES\n",
        "+                         <---- SEPARATOR LINE\n",
        "%%).1***-+*''))**55CCFF   <---- ASCII QUALITY SCORES\n",
        "\n",
        "```\n",
        "\n",
        "The quality of the sequences is represented as a character of the ASCII code. Check [here](https://support.illumina.com/help/BaseSpace_OLH_009008/Content/Source/Informatics/BS/QualityScoreEncoding_swBS.htm) for an explanation.\n",
        "The numerical values correspond to phred quality values"
      ],
      "metadata": {
        "id": "cCKzvpK9yzmt"
      }
    },
    {
      "cell_type": "markdown",
      "source": [
        "# Illumina QC\n",
        "\n",
        "We will use [FastQC](https://www.bioinformatics.babraham.ac.uk/projects/fastqc/) software for the analysis of the results of a Illumina run. FastQC run a series of analysis on fastq files, and report the results as an HTML file that you open in a browser. For help on any of the sections, please check the following links.\n",
        "\n",
        "*   [Basic statitistics](https://www.bioinformatics.babraham.ac.uk/projects/fastqc/Help/3%20Analysis%20Modules/1%20Basic%20Statistics.html)\n",
        "*   [Per base sequence quality](https://www.bioinformatics.babraham.ac.uk/projects/fastqc/Help/3%20Analysis%20Modules/2%20Per%20Base%20Sequence%20Quality.html)\n",
        "*   [Per base sequence content](https://www.bioinformatics.babraham.ac.uk/projects/fastqc/Help/3%20Analysis%20Modules/4%20Per%20Base%20Sequence%20Content.html)\n",
        "*   [Per sequence GC content](https://www.bioinformatics.babraham.ac.uk/projects/fastqc/Help/3%20Analysis%20Modules/5%20Per%20Sequence%20GC%20Content.html)\n",
        "*   [Per base N content](https://www.bioinformatics.babraham.ac.uk/projects/fastqc/Help/3%20Analysis%20Modules/6%20Per%20Base%20N%20Content.html)\n",
        "*   [Sequence length distribution](https://www.bioinformatics.babraham.ac.uk/projects/fastqc/Help/3%20Analysis%20Modules/7%20Sequence%20Length%20Distribution.html)\n",
        "*   [Duplicate Sequences](https://www.bioinformatics.babraham.ac.uk/projects/fastqc/Help/3%20Analysis%20Modules/8%20Duplicate%20Sequences.html)\n",
        "*   [Overrepresented Sequences](https://www.bioinformatics.babraham.ac.uk/projects/fastqc/Help/3%20Analysis%20Modules/9%20Overrepresented%20Sequences.html)\n",
        "*   [Adapter content](https://www.bioinformatics.babraham.ac.uk/projects/fastqc/Help/3%20Analysis%20Modules/10%20Adapter%20Content.html)\n",
        "*   [Kmer content](https://www.bioinformatics.babraham.ac.uk/projects/fastqc/Help/3%20Analysis%20Modules/11%20Kmer%20Content.html)\n",
        "*   [Per tile sequence quality](https://www.bioinformatics.babraham.ac.uk/projects/fastqc/Help/3%20Analysis%20Modules/12%20Per%20Tile%20Sequence%20Quality.html)\n"
      ],
      "metadata": {
        "id": "97-AF1JnuR_4"
      }
    },
    {
      "cell_type": "markdown",
      "source": [
        "Run fastQC from command line"
      ],
      "metadata": {
        "id": "dzKjsc_30R8X"
      }
    },
    {
      "cell_type": "code",
      "source": [
        "#Create a directory to store all FastQC results and run FastQC\n",
        "!mkdir Illumina_fastqc_results\n",
        "!fastqc -o Illumina_fastqc_results /content/Illumina_fastq/fastq/*"
      ],
      "metadata": {
        "id": "_AjKDOjT2SVY"
      },
      "execution_count": null,
      "outputs": []
    },
    {
      "cell_type": "markdown",
      "source": [
        "As we did in the previous module, we can summarize the results of fastqc using multiqc"
      ],
      "metadata": {
        "id": "1gIIXG21FFMC"
      }
    },
    {
      "cell_type": "code",
      "source": [
        "!multiqc -o /content/Illumina_fastqc_results/ /content/Illumina_fastqc_results/"
      ],
      "metadata": {
        "id": "SFcigAHOGW6o"
      },
      "execution_count": null,
      "outputs": []
    },
    {
      "cell_type": "markdown",
      "source": [
        "This will create an HTML result file (`multiqc_report`) with a summary of FastQC reports.\n",
        "\n",
        "Navigate the results for each file and report:\n",
        "\n",
        "> **Which sample has more reads?**\n",
        "\n",
        "> **Is there any distribution of sequences sizes?**"
      ],
      "metadata": {
        "id": "QWk2zIA82W7s"
      }
    },
    {
      "cell_type": "markdown",
      "source": [
        "# Nanopore QC"
      ],
      "metadata": {
        "id": "gEyqKnBS0NmF"
      }
    },
    {
      "cell_type": "markdown",
      "source": [
        "Run fastQC from command line (actually, for Nanopore, FastQC is not a good choice)"
      ],
      "metadata": {
        "id": "aIgMW36I562h"
      }
    },
    {
      "cell_type": "code",
      "source": [
        "!mkdir Nanopore_FastQC_report\n",
        "!fastqc -o Nanopore_FastQC_report /content/Nanopore_READS/nanopore_fastq/barcode*/*"
      ],
      "metadata": {
        "id": "ow3nIVgNa0B_"
      },
      "execution_count": null,
      "outputs": []
    },
    {
      "cell_type": "code",
      "source": [
        "!multiqc -o /content/Nanopore_FastQC_report/ /content/Nanopore_FastQC_report/"
      ],
      "metadata": {
        "id": "6B57EggvPnOC"
      },
      "execution_count": null,
      "outputs": []
    },
    {
      "cell_type": "markdown",
      "source": [
        "Running NanoPlot for Nanopore data "
      ],
      "metadata": {
        "id": "kofR4BYv5msu"
      }
    },
    {
      "cell_type": "code",
      "source": [
        "!NanoPlot -o nanoplot_output --fastq_rich /content/Nanopore_READS/nanopore_fastq/barcode*/*.fastq.gz "
      ],
      "metadata": {
        "id": "igxrTMCETY5r"
      },
      "execution_count": null,
      "outputs": []
    },
    {
      "cell_type": "markdown",
      "source": [
        "The output will be in the folder nanoplot_output. Download the file `NanoPlot-report.html` and browse the results.\n",
        "\n",
        "---\n",
        "\n",
        "\n",
        "> **How many reads are in total?**\n",
        "\n",
        "> **Which is the average read size?**\n",
        "\n",
        "> **How does this compares with Illumina results?**\n",
        "\n",
        "\n"
      ],
      "metadata": {
        "id": "hgXG-7xyE5LV"
      }
    },
    {
      "cell_type": "markdown",
      "source": [
        "We don't do any trimming because the pipelines we'll use do this for use. See you on the next notebook..."
      ],
      "metadata": {
        "id": "iqqIK87iQ4CG"
      }
    }
  ],
  "metadata": {
    "colab": {
      "collapsed_sections": [],
      "provenance": []
    },
    "kernelspec": {
      "display_name": "Python 3",
      "name": "python3"
    }
  },
  "nbformat": 4,
  "nbformat_minor": 0
}