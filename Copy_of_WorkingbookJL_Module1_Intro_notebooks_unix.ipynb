{
  "nbformat": 4,
  "nbformat_minor": 0,
  "metadata": {
    "colab": {
      "name": "Copy of WorkingbookJL_Module1_Intro_notebooks_unix.ipynb",
      "provenance": [],
      "collapsed_sections": [],
      "include_colab_link": true
    },
    "kernelspec": {
      "name": "python3",
      "display_name": "Python 3"
    },
    "language_info": {
      "name": "python"
    }
  },
  "cells": [
    {
      "cell_type": "markdown",
      "metadata": {
        "id": "view-in-github",
        "colab_type": "text"
      },
      "source": [
        "<a href=\"https://colab.research.google.com/github/WCSCourses/SARS-COV-2_B4B/blob/main/Copy_of_WorkingbookJL_Module1_Intro_notebooks_unix.ipynb\" target=\"_parent\"><img src=\"https://colab.research.google.com/assets/colab-badge.svg\" alt=\"Open In Colab\"/></a>"
      ]
    },
    {
      "cell_type": "markdown",
      "source": [
        "# Module 1: Intro to python notebooks and unix\n",
        "\n",
        "Welcome to the course! There are some very important instructions for you to follow:\n",
        "\n",
        "1.) Click on File on the top left corner and select save a copy in drive\n",
        "\n",
        "**Your changes will not be saved if you do not do this step**\n",
        "\n",
        "2.) Click on the name of the workbook in the top left corner and replace \"Copy of\" with your full name\n",
        "\n",
        "**You will be submitting the downloaded notebook file as your proof of completion for this module**\n"
      ],
      "metadata": {
        "id": "VZpWDT_qK5mE"
      }
    },
    {
      "cell_type": "markdown",
      "source": [
        "Please type: \n",
        "```\n",
        "print(\"Yes, I have done step 1\") \n",
        "```\n",
        "into the code block below, then run by clicking the \"triangle\"/\"Play\" icon on that block \n",
        "\n"
      ],
      "metadata": {
        "id": "HkAHdwWUJKoZ"
      }
    },
    {
      "cell_type": "code",
      "source": [
        "#this block will be checked"
      ],
      "metadata": {
        "id": "lza1ngCWKHbX"
      },
      "execution_count": null,
      "outputs": []
    },
    {
      "cell_type": "markdown",
      "source": [
        "Please type: \n",
        "```\n",
        "print(\"Yes, I have completed step 2\") \n",
        "```\n",
        "into the code block below, then run by clicking the \"triangle\"/\"Play\" icon on that block \n",
        "\n"
      ],
      "metadata": {
        "id": "l166Rx0ZKLqh"
      }
    },
    {
      "cell_type": "code",
      "source": [
        "#this block will be checked"
      ],
      "metadata": {
        "id": "nsufot4fKS01"
      },
      "execution_count": null,
      "outputs": []
    },
    {
      "cell_type": "markdown",
      "source": [
        "# Installing Conda\n",
        "Conda is a versatile software management tool. Conda is an open source system of managing tools and libraries. More info on the library used to install conda on Google Colab is at this [website](https://inside-machinelearning.com/en/how-to-install-use-conda-on-google-colab/)\n",
        "\n",
        "Note - your runtime will refresh and reconnect after running this. It will say runtime crashed, this seems normal, wait for the session to reconnect after this.\n",
        "\n",
        "\n",
        "You can check out this repo for how this tool works:\n",
        "https://github.com/conda-incubator/condacolab \n"
      ],
      "metadata": {
        "id": "G7mk1VecOHLQ"
      }
    },
    {
      "cell_type": "code",
      "source": [
        "!pip install -q condacolab\n",
        "import condacolab\n",
        "condacolab.install()"
      ],
      "metadata": {
        "id": "jOTBUZ3gOFm3"
      },
      "execution_count": null,
      "outputs": []
    },
    {
      "cell_type": "markdown",
      "source": [
        "\n",
        "# Python vs Bash\n",
        "\n",
        "Python is a programing language designed to be simple to implement and easy to understand. It is a dynamically typed language. It is not using pointers.\n",
        "\n",
        "\n",
        "Bash is a command-line interpreter and is shipped by default in Linux and MacOS operating systems. It can be installed in other operating systems as well. It is default User Shell for Linux and MacOS.\n",
        "\n",
        "## Key differences in working on Google Colab\n",
        "\n"
      ],
      "metadata": {
        "id": "p5SImQk-LGMe"
      }
    },
    {
      "cell_type": "code",
      "execution_count": null,
      "metadata": {
        "id": "dvo4cVYzKyzY"
      },
      "outputs": [],
      "source": [
        "#example of python\n",
        "print(\"This is a python command\")"
      ]
    },
    {
      "cell_type": "code",
      "source": [
        "#example of bash\n",
        "!echo \"This is a bash command\""
      ],
      "metadata": {
        "id": "1yjkW5M7LbMz"
      },
      "execution_count": null,
      "outputs": []
    },
    {
      "cell_type": "markdown",
      "source": [
        "#Introduction to strings in Python\n",
        "\n",
        "A string is a series of characters. In Python, anything inside quotes is a string. And you can use either single or double quotes\n",
        "\n",
        "The text below combines both code and text for some clarification. The program differentiates the text from the code, by placing a # symbol in front of the text. This means that the text won`t be read by the program as a command."
      ],
      "metadata": {
        "id": "jz4TwFT029_r"
      }
    },
    {
      "cell_type": "code",
      "source": [
        "s = ('This is a string') #And it has been assigned to a variable called 's'\n",
        "\n",
        "('This is also a string') #However, this string was NOT assigned to a variable, or printed to the screen, or written to an output file\n",
        "# So, it really serves no purpose\n",
        "# It's code garbage\n",
        "\n",
        "# To send the contents of the string to the screen (i.e., terminal window), use the 'print' command\n",
        "\n",
        "print (\"s\")\n",
        "\n",
        "# You can also print strings directly, without assigning them to a variable first\n",
        "print ('This is also a string')\n",
        "print (\"This is a string in double quotes\") # Double and single quotes are interchangeable in Python, both can be used to create strings\n",
        "\n",
        "# Triple quotes can be used to generate multiline strings\n",
        "print (\"\"\"This string spans\n",
        "multiple lines\"\"\")\n",
        "\n",
        "#However, the same can be accomplished using the \\n notation\n",
        "print (\"This string spans\\nmultiple lines\")\n",
        "\n",
        "# In Python, strings are immutable, which means that they cannot be altered\n",
        "alpha = (\"abcdefghijklmnop\")\n",
        "\n",
        "# Therefore, you can't directly add the rest of the alphabet onto the string currently assigned to the variable alpha\n",
        "# However, you can reassign variable names to altered versions of strings\n",
        "\n",
        "alpha = (alpha + \"qrstuvwxyz\")  #I know...it's a subtle distinction, but will become important later\n",
        "#The above statement might seem a bit strange because we are both using and reassigning the alpha variable in the same line\n",
        "#However, this works because the statement to the right of the \"=\" is evaluated BEFORE the variable is reassigned\n",
        "print (alpha)"
      ],
      "metadata": {
        "id": "4sZDU-rvnOO7"
      },
      "execution_count": null,
      "outputs": []
    },
    {
      "cell_type": "markdown",
      "source": [
        "Next section\n",
        "\n",
        "#Directory management\n",
        "\n",
        "Directories are the UNIX equivalent of folders on a PC or Mac. They are organised in a hierarchy, so directories can have sub-directories and so on. Directories are very useful for organising your work and keeping your account tidy - for example, if you have more than one project, you can organise the files for each project into different directories to keep them separate. You can think of directories as rooms in a house. You can only be in one room (directory) at a time. When you are in a room you can see everything in that room easily. To see things in other rooms, you have to go to the appropriate door and crane your head around. UNIX works in a similar manner, moving from directory to directory to access files. The location or directory that you are in is referred to as the current working directory."
      ],
      "metadata": {
        "id": "v7JT--TJLeSS"
      }
    },
    {
      "cell_type": "markdown",
      "source": [
        "# Practical questions\n",
        "Please answer the following questions in the code blocks below\n",
        "\n",
        "1.   Create a directory called my_new_directory\n",
        "2.   Create a file called my_new_file.txt in my_new_directory\n",
        "3.   What is the absolute path to the newly made my_new_file.txt \n",
        "\n"
      ],
      "metadata": {
        "id": "971FGhBBLjJv"
      }
    },
    {
      "cell_type": "code",
      "source": [
        "# 1.   Create a directory called my_new_directory \n",
        "# enter your code below\n"
      ],
      "metadata": {
        "id": "n3o_SjC2L4KG"
      },
      "execution_count": null,
      "outputs": []
    },
    {
      "cell_type": "code",
      "source": [
        "# 2.   Create a file called my_new_file.txt in my_new_directory\n",
        "# enter your code below\n",
        "\n"
      ],
      "metadata": {
        "id": "DcWtwQR8L8jh"
      },
      "execution_count": null,
      "outputs": []
    },
    {
      "cell_type": "code",
      "source": [
        "# 3.   What is the absolute path to the newly made my_new_file.txt \n",
        "# enter your code below\n"
      ],
      "metadata": {
        "id": "yLfNEOo2MjAk"
      },
      "execution_count": null,
      "outputs": []
    }
  ]
}